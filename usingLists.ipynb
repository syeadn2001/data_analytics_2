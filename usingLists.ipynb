{
  "nbformat": 4,
  "nbformat_minor": 0,
  "metadata": {
    "colab": {
      "name": "usingLists.ipynb",
      "provenance": [],
      "authorship_tag": "ABX9TyP3joTrwmuFt4e8dc2oUFMu",
      "include_colab_link": true
    },
    "kernelspec": {
      "name": "python3",
      "display_name": "Python 3"
    },
    "language_info": {
      "name": "python"
    }
  },
  "cells": [
    {
      "cell_type": "markdown",
      "metadata": {
        "id": "view-in-github",
        "colab_type": "text"
      },
      "source": [
        "<a href=\"https://colab.research.google.com/github/syeadn2001/data_analytics_2/blob/main/usingLists.ipynb\" target=\"_parent\"><img src=\"https://colab.research.google.com/assets/colab-badge.svg\" alt=\"Open In Colab\"/></a>"
      ]
    },
    {
      "cell_type": "markdown",
      "metadata": {
        "id": "nt1JeLN-yj36"
      },
      "source": [
        "   A list in Python is a collection of items in a specific order.\n",
        "\n",
        "Lists can consist of letters, digits, names of people, etc. \n",
        "Anything can be placed in a list.\n",
        "\n",
        "In Python, lists are indicated by square brackets ( [] ) – elements within a list are separated by commas."
      ]
    },
    {
      "cell_type": "code",
      "metadata": {
        "colab": {
          "base_uri": "https://localhost:8080/"
        },
        "id": "ILP_0GVjwwkp",
        "outputId": "c56b0778-6a98-4231-9b79-82ecb9b98c06"
      },
      "source": [
        "list1 = [\"apple\", \"banana\", \"cherry\"] \n",
        "list2 = [1, 5, 7, 9, 3]\n",
        "list3 = [True, False, False] \n",
        "#will print what type of data type the variable refers to\n",
        "print(type(list3))\n",
        "#indicating specific element in list \n",
        "print(list1[1])\n",
        "#finding last element in the list \n",
        "print(list1[-1])"
      ],
      "execution_count": 8,
      "outputs": [
        {
          "output_type": "stream",
          "text": [
            "<class 'list'>\n",
            "<class 'str'>\n",
            "cherry\n"
          ],
          "name": "stdout"
        }
      ]
    },
    {
      "cell_type": "code",
      "metadata": {
        "colab": {
          "base_uri": "https://localhost:8080/"
        },
        "id": "S_F2g7DrxHoa",
        "outputId": "69011846-f4de-4835-df98-be4356e1190f"
      },
      "source": [
        "names = [\"Fawzia\",\"Adnaan Syed\",\"Affra Husain\",\"Abu\",\"nurun husain\"]\n",
        "print(names)\n",
        "print(names[1])\n",
        "print(names[0].upper())\n",
        "print(names[-1].title())\n",
        "print(names[2].lower())"
      ],
      "execution_count": 13,
      "outputs": [
        {
          "output_type": "stream",
          "text": [
            "['Fawzia', 'Adnaan Syed', 'Affra Husain', 'Abu', 'nurun husain']\n",
            "Adnaan Syed\n",
            "FAWZIA\n",
            "Nurun Husain\n",
            "affra husain\n"
          ],
          "name": "stdout"
        }
      ]
    },
    {
      "cell_type": "code",
      "metadata": {
        "colab": {
          "base_uri": "https://localhost:8080/"
        },
        "id": "sUq_ZfkxxyK8",
        "outputId": "1b6bee85-15af-4f28-ab90-45d614fdfbb1"
      },
      "source": [
        "thislist = [\"apple\", 66, \"orange\",]\n",
        "print(thislist)\n",
        "print(thislist[1]+5)\n",
        "thislist = [\"apple\", \"66\", \"orange\",] \n",
        "print(thislist) \n",
        "print(thislist[1]+\"5\")"
      ],
      "execution_count": 7,
      "outputs": [
        {
          "output_type": "stream",
          "text": [
            "['apple', 66, 'orange']\n",
            "71\n",
            "['apple', '66', 'orange']\n",
            "665\n"
          ],
          "name": "stdout"
        }
      ]
    },
    {
      "cell_type": "code",
      "metadata": {
        "colab": {
          "base_uri": "https://localhost:8080/"
        },
        "id": "b1_9pCBo5mQi",
        "outputId": "9f42f175-6caf-4aea-a4ec-97f581074a77"
      },
      "source": [
        "#ON YOUR OWN (MANIPULATION OF STRING)\n",
        "\n",
        "fav = [\"fries\",\"burger\",\"chocolate\"]\n",
        "print(fav)\n",
        "fav.append(\"chicken\")\n",
        "print(fav)\n",
        "fav.remove(\"burger\")\n",
        "print(fav)\n",
        "fav.insert(0,\"ice-cream\")\n",
        "print(fav)\n",
        "del fav[2]\n",
        "print(fav)"
      ],
      "execution_count": 34,
      "outputs": [
        {
          "output_type": "stream",
          "text": [
            "['fries', 'burger', 'chocolate']\n",
            "['fries', 'burger', 'chocolate', 'chicken']\n",
            "['fries', 'chocolate', 'chicken']\n",
            "['ice-cream', 'fries', 'chocolate', 'chicken']\n",
            "['ice-cream', 'fries', 'chicken']\n"
          ],
          "name": "stdout"
        }
      ]
    },
    {
      "cell_type": "code",
      "metadata": {
        "colab": {
          "base_uri": "https://localhost:8080/"
        },
        "id": "9U1B-QJe7ycm",
        "outputId": "8d3c471f-cafb-4616-af2d-f0e2e38c8245"
      },
      "source": [
        "#ON YOUR OWN (Sorting a List)\n",
        "places = ['Turkey', 'Spain', 'Malaysia', 'Bosnia', 'South Africa']\n",
        "print(places)\n",
        "places.sort()\n",
        "print(places)\n",
        "places.sort(reverse=True)\n",
        "print(places)\n"
      ],
      "execution_count": 39,
      "outputs": [
        {
          "output_type": "stream",
          "text": [
            "['Turkey', 'Spain', 'Malaysia', 'Bosnia', 'South Africa']\n",
            "['Bosnia', 'Malaysia', 'South Africa', 'Spain', 'Turkey']\n",
            "['Turkey', 'Spain', 'South Africa', 'Malaysia', 'Bosnia']\n"
          ],
          "name": "stdout"
        }
      ]
    }
  ]
}