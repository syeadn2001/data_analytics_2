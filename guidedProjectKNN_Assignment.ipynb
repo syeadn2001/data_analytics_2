{
  "nbformat": 4,
  "nbformat_minor": 5,
  "metadata": {
    "jupytext": {
      "cell_metadata_filter": "-all",
      "main_language": "python",
      "notebook_metadata_filter": "-all"
    },
    "kernelspec": {
      "display_name": "Python 3 (ipykernel)",
      "language": "python",
      "name": "python3"
    },
    "language_info": {
      "codemirror_mode": {
        "name": "ipython",
        "version": 3
      },
      "file_extension": ".py",
      "mimetype": "text/x-python",
      "name": "python",
      "nbconvert_exporter": "python",
      "pygments_lexer": "ipython3",
      "version": "3.8.10"
    },
    "colab": {
      "name": "guidedProjectKNN_Assignment.ipynb",
      "provenance": [],
      "toc_visible": true,
      "include_colab_link": true
    }
  },
  "cells": [
    {
      "cell_type": "markdown",
      "metadata": {
        "id": "view-in-github",
        "colab_type": "text"
      },
      "source": [
        "<a href=\"https://colab.research.google.com/github/syeadn2001/data_analytics_2/blob/main/guidedProjectKNN_Assignment.ipynb\" target=\"_parent\"><img src=\"https://colab.research.google.com/assets/colab-badge.svg\" alt=\"Open In Colab\"/></a>"
      ]
    },
    {
      "cell_type": "markdown",
      "metadata": {
        "id": "ecd63725"
      },
      "source": [
        "# KNN Classification using Scikit-learn\n",
        "**Learn K-Nearest Neighbor(KNN) Classification and build KNN classifier using Python Scikit-learn package.**"
      ],
      "id": "ecd63725"
    },
    {
      "cell_type": "markdown",
      "metadata": {
        "id": "e54ac301"
      },
      "source": [
        "K Nearest Neighbor(KNN) is a very simple, easy to understand, versatile and one of the topmost machine learning algorithms. KNN is used in a variety of applications such as finance, healthcare, political science, handwriting detection, image recognition and video recognition. In Credit ratings, financial institutes will predict the credit rating of customers. In loan disbursement, banking institutes will predict whether the loan is safe or risky. In political science, classifying potential voters in two classes will vote or won’t vote. The KNN algorithm is used for both classification and regression problems. The algorithm based on a feature similarity approach.\n",
        "\n",
        "In this tutorial, you are going to cover the following topics:\n",
        "\n",
        "* K-Nearest Neighbor Algorithm\n",
        "* How does the KNN algorithm work?\n",
        "* Eager Vs Lazy learners\n",
        "* How do you decide the number of neighbors in KNN?\n",
        "* Curse of Dimensionality\n",
        "* Classifier Building in Scikit-learn\n",
        "* Pros and Cons\n",
        "* How to improve KNN performance?\n",
        "* Conclusion\n",
        "\n",
        "## K-Nearest Neighbors\n",
        "\n",
        "![](graphics/K-Nearest.png)\n",
        "\n",
        "KNN is a non-parametric and lazy learning algorithm. \n",
        "- Non-parametric means there is no assumption for underlying data distribution*(no pre-determined coefficients)*. In other words, the model structure determined from the dataset. This will be very helpful in practice where most of the real world datasets do not follow mathematical theoretical assumptions. \n",
        "- Lazy algorithm means it does not need any training data points for model generation. All training data is used in the testing phase. This makes training faster and the testing phase slower and costlier. Costly testing phase means time and memory. In the worst case, KNN needs more time to scan all data points and scanning all data points will require more memory for storing training data.\n",
        "\n",
        "## How does the KNN algorithm work?\n",
        "\n",
        "In KNN, K is the number of nearest neighbors. The number of neighbors is the core deciding factor. **K is generally an odd number if the number of classes is 2.** When K=1, then the algorithm is known as the nearest neighbor algorithm. This is the simplest case. Suppose P1 is the point, for which label needs to predict. First, you find the one closest point to P1 and then the label of the nearest point assigned to P1.\n",
        "\n",
        "\n",
        "![](graphics/Knn_k1.png)\n",
        "\n",
        "Suppose P1 is the point, for which a label needs to be predicted. First, you find the k closest points to P1 and then classify points by majority vote of its k neighbors. Each object votes for their class and the class with the most votes is taken as the prediction. For finding closest similar points, you find the distance between points using distance measures such as Euclidean distance, Hamming distance, Manhattan distance and Minkowski distance. \n",
        "\n",
        "**KNN has the following basic steps:**\n",
        "\n",
        "1. Calculate distance\n",
        "2. Find closest neighbors\n",
        "3. Vote for labels\n",
        "\n",
        "\n",
        "![](graphics/KNN_final1.png)\n",
        "\n",
        "## Eager Vs. Lazy Learners\n",
        "\n",
        "Eager learners mean when given training points will construct a generalized model before performing prediction on given new points to classify. You can think of such learners as being ready, active and eager to classify unobserved data points.\n",
        "\n",
        "Lazy Learning means there is no need for learning or training of the model and all of the data points used at the time of prediction. Lazy learners wait until the last minute before classifying any data point. A lazy learner merely stores the training dataset and waits until classification needs to perform. Only when it sees the test tuple does it perform generalization to classify the tuple based on its similarity to the stored training tuples. Unlike eager learning methods, lazy learners do less work in the training phase and more work in the testing phase to make a classification. Lazy learners are also known as instance-based learners because lazy learners store the training points or instances, and all learning is based on instances.\n",
        "\n",
        "## Curse of Dimensionality\n",
        "\n",
        "**KNN performs better with a lower number of features than a large number of features.** You can say that when the number of features increases than it requires more data. Increase in dimension also leads to the problem of overfitting. To avoid overfitting, *the needed data will need to grow exponentially as you increase the number of dimensions*. This problem of higher dimension is known as the Curse of Dimensionality.\n",
        "\n",
        "To deal with the problem of the curse of dimensionality, you need to perform principal component analysis before applying any machine learning algorithm, or you can also use feature selection approach. Research has shown that in large dimension Euclidean distance is not useful anymore. Therefore, you can prefer other measures such as cosine similarity, which get decidedly less affected by high dimension.\n",
        "\n",
        "## How do you decide the number of neighbors in KNN?\n",
        "\n",
        "Now, you understand the KNN algorithm working mechanism. At this point, the question arises that How to choose the optimal number of neighbors? And what are its effects on the classifier? The number of neighbors(K) in KNN is a hyperparameter that you need choose at the time of model building. You can think of K as a controlling variable for the prediction model.\n",
        "\n",
        "Research has shown that no optimal number of neighbors suits all kind of data sets. Each dataset has it's own requirements. In the case of a small number of neighbors, the noise will have a higher influence on the result, and a large number of neighbors make it computationally expensive. Research has also shown that a small amount of neighbors are most flexible fit which will have low bias but high variance and a large number of neighbors will have a smoother decision boundary which means lower variance but higher bias.\n",
        "\n",
        "Generally, Data scientists choose as an odd number if the number of classes is even. You can also check by generating the model on different values of k and check their performance. You can also try Elbow method here.\n",
        "\n",
        "\n",
        "![](graphics/KNN_final.png)\n",
        "\n",
        "## Classifier Building in Scikit-learn\n",
        "\n",
        "### KNN Classifier\n",
        "\n",
        "#### Defining dataset\n",
        "\n",
        "Let's first create your own dataset. Here you need two kinds of attributes or columns in your data: Feature and label. The reason for two type of column is \"supervised nature of KNN algorithm\".\n"
      ],
      "id": "e54ac301"
    },
    {
      "cell_type": "code",
      "metadata": {
        "id": "3f43590a"
      },
      "source": [
        "# Assigning features and label variables\n",
        "# First Feature\n",
        "weather=['Sunny','Sunny','Overcast','Rainy','Rainy','Rainy','Overcast','Sunny','Sunny',\n",
        "'Rainy','Sunny','Overcast','Overcast','Rainy']\n",
        "# Second Feature\n",
        "temp=['Hot','Hot','Hot','Mild','Cool','Cool','Cool','Mild','Cool','Mild','Mild','Mild','Hot','Mild']\n",
        "\n",
        "# Label or target varible\n",
        "play=['No','No','Yes','Yes','Yes','No','Yes','No','Yes','Yes','Yes','Yes','Yes','No']\n",
        "\n"
      ],
      "id": "3f43590a",
      "execution_count": null,
      "outputs": []
    },
    {
      "cell_type": "markdown",
      "metadata": {
        "id": "b8df1eba"
      },
      "source": [
        "In this dataset, you have two features (weather and temperature) and one label(play).\n",
        "\n",
        "#### Encoding data columns\n",
        "\n",
        "Various machine learning algorithms require numerical input data, so you need to represent categorical columns in a numerical column.\n",
        "\n",
        "In order to encode this data, you could map each value to a number. \n",
        "\n",
        "e.g. Overcast:0, Rainy:1, and Sunny:2 (numbers assigned in alphabetical order)\n",
        "\n",
        "This process is known as **label encoding,** and sklearn conveniently will do this for you using Label Encoder.\n"
      ],
      "id": "b8df1eba"
    },
    {
      "cell_type": "code",
      "metadata": {
        "colab": {
          "base_uri": "https://localhost:8080/",
          "height": 52
        },
        "id": "43ecb13a",
        "outputId": "9e27abd0-2e41-4556-a47d-c7de346646c5"
      },
      "source": [
        "# Import LabelEncoder\n",
        "from sklearn import preprocessing\n",
        "\n",
        "#creating labelEncoder\n",
        "le = preprocessing.LabelEncoder()\n",
        "\n",
        "# Converting string labels into numbers.\n",
        "weather_encoded=le.fit_transform(weather)\n",
        "print(weather_encoded)\n",
        "\n",
        "\"\"\"DIFFERENT THAN DUMMY VARIABLES B/C DUMMY VARIABLES WOULD MAKE UNIQUE VALUES \n",
        "INTO COLUMNS AND THEN HAVE BOOLEAN VALUES\"\"\"\n"
      ],
      "id": "43ecb13a",
      "execution_count": null,
      "outputs": [
        {
          "output_type": "stream",
          "text": [
            "[2 2 0 1 1 1 0 2 2 1 2 0 0 1]\n"
          ],
          "name": "stdout"
        },
        {
          "output_type": "execute_result",
          "data": {
            "application/vnd.google.colaboratory.intrinsic+json": {
              "type": "string"
            },
            "text/plain": [
              "'DIFFERENT THAN DUMMY VARIABLES B/C DUMMY VARIABLES WOULD MAKE UNIQUE VALUES \\nINTO COLUMNS AND THEN HAVE BOOLEAN VALUES'"
            ]
          },
          "metadata": {
            "tags": []
          },
          "execution_count": 120
        }
      ]
    },
    {
      "cell_type": "markdown",
      "metadata": {
        "id": "ec296f97"
      },
      "source": [
        "Here, you imported preprocessing module and created Label Encoder object.\n",
        "Using this LabelEncoder object, you can fit and transform \"weather\" column into the numeric column.\n",
        "\n",
        "Similarly, you can encode temperature and label into numeric columns.\n"
      ],
      "id": "ec296f97"
    },
    {
      "cell_type": "code",
      "metadata": {
        "id": "595aa7f9"
      },
      "source": [
        "# converting string labels into numbers\n",
        "temp_encoded=le.fit_transform(temp)\n",
        "label=le.fit_transform(play)"
      ],
      "id": "595aa7f9",
      "execution_count": null,
      "outputs": []
    },
    {
      "cell_type": "markdown",
      "metadata": {
        "id": "c28d7d18"
      },
      "source": [
        "#### Combining Features\n",
        "\n",
        "Here, you will combine multiple columns or features into a single set of data using \"zip\" function\n"
      ],
      "id": "c28d7d18"
    },
    {
      "cell_type": "code",
      "metadata": {
        "id": "2e619f11",
        "colab": {
          "base_uri": "https://localhost:8080/",
          "height": 52
        },
        "outputId": "13ac9ae3-7928-4791-f33d-330e465629b3"
      },
      "source": [
        "#combinig weather and temp into single listof tuples\n",
        "features=list(zip(weather_encoded,temp_encoded))\n",
        "print(features)\n",
        "\n",
        "\"\"\" zip() function allows you to combine lists into a SINGLE set of data \n",
        "[making them multivariate] \"\"\""
      ],
      "id": "2e619f11",
      "execution_count": null,
      "outputs": [
        {
          "output_type": "stream",
          "text": [
            "[(2, 1), (2, 1), (0, 1), (1, 2), (1, 0), (1, 0), (0, 0), (2, 2), (2, 0), (1, 2), (2, 2), (0, 2), (0, 1), (1, 2)]\n"
          ],
          "name": "stdout"
        },
        {
          "output_type": "execute_result",
          "data": {
            "application/vnd.google.colaboratory.intrinsic+json": {
              "type": "string"
            },
            "text/plain": [
              "' zip() function allows you to combine lists into a SINGLE set of data \\n[making them multivariate] '"
            ]
          },
          "metadata": {
            "tags": []
          },
          "execution_count": 122
        }
      ]
    },
    {
      "cell_type": "markdown",
      "metadata": {
        "id": "b0504e2b"
      },
      "source": [
        "#### Generating Model\n",
        "\n",
        "Let's build KNN classifier model.\n",
        "\n",
        "First, import the KNeighborsClassifier module and create KNN classifier object by passing argument number of neighbors in KNeighborsClassifier() function.\n",
        "\n",
        "Then, fit your model on the train set using fit() and perform prediction on the test set using predict().\n"
      ],
      "id": "b0504e2b"
    },
    {
      "cell_type": "code",
      "metadata": {
        "colab": {
          "base_uri": "https://localhost:8080/"
        },
        "id": "b7a63bfd",
        "outputId": "8ed531c9-0887-4a50-eaf4-f2ef0da91362"
      },
      "source": [
        "\"\"\"First import the module from package\n",
        "    Second, instantiate the model object\n",
        "    Fit your features and target/label into your model\n",
        "    now you can predict w/ test data!\n",
        "\"\"\"\n",
        "\n",
        "from sklearn.neighbors import KNeighborsClassifier\n",
        "\n",
        "model = KNeighborsClassifier(n_neighbors=3)\n",
        "\n",
        "# Train the model using the training sets\n",
        "model.fit(features,label)\n",
        "\n",
        "#Predict Output\n",
        "predicted= model.predict([[0,2]]) # 0:Overcast, 2:Mild\n",
        "print(predicted)"
      ],
      "id": "b7a63bfd",
      "execution_count": null,
      "outputs": [
        {
          "output_type": "stream",
          "text": [
            "[1]\n"
          ],
          "name": "stdout"
        }
      ]
    },
    {
      "cell_type": "markdown",
      "metadata": {
        "id": "2f979a5b"
      },
      "source": [
        "In the above example, you have given input [0,2], where 0 means Overcast weather and 2 means Mild temperature. Model predicts [1], which means play.\n",
        "\n",
        "### KNN with Multiple Labels\n",
        "\n",
        "Till now, you have learned How to create KNN classifier for two in python using scikit-learn. Now you will learn about KNN with multiple classes.\n",
        "\n",
        "In the model the building part, you can use the wine dataset, which is a very famous multi-class classification problem.\n",
        "This data is the result of a chemical analysis of wines grown in the same region in Italy using three different cultivars. The analysis determined the quantities of 13 constituents found in each of the three types of wines.\n",
        "\n",
        "The dataset comprises 13 features ('alcohol', 'malic_acid', 'ash', 'alcalinity_of_ash', 'magnesium', 'total_phenols', 'flavanoids', 'nonflavanoid_phenols', 'proanthocyanins', 'color_intensity', 'hue', 'od280/od315_of_diluted_wines', 'proline') and a target (type of cultivars).\n",
        "\n",
        "This data has three types of cultivar classes: 'class_0', 'class_1', and 'class_2'. Here, you can build a model to classify the type of cultivar. The dataset is available in the scikit-learn library, or you can also download it from the UCI Machine Learning Library.\n",
        "\n",
        "#### Loading Data\n",
        "\n",
        "Let's first load the required wine dataset from scikit-learn datasets.\n"
      ],
      "id": "2f979a5b"
    },
    {
      "cell_type": "code",
      "metadata": {
        "id": "f2bf5a41"
      },
      "source": [
        "import numpy as np\n",
        "import pandas as pd\n",
        "#Import scikit-learn dataset library\n",
        "from sklearn import datasets\n",
        "\n",
        "#Load dataset\n",
        "wine = datasets.load_wine()"
      ],
      "id": "f2bf5a41",
      "execution_count": null,
      "outputs": []
    },
    {
      "cell_type": "markdown",
      "metadata": {
        "id": "b75e6fb2"
      },
      "source": [
        "#### Exploring Data\n",
        "\n",
        "After you have loaded the dataset, you might want to know a little bit more about it. You can check feature and target names.  \n"
      ],
      "id": "b75e6fb2"
    },
    {
      "cell_type": "code",
      "metadata": {
        "colab": {
          "base_uri": "https://localhost:8080/"
        },
        "id": "Xid12LqUJ-o9",
        "outputId": "38e23759-7b8d-4a98-df3d-f931a480d422"
      },
      "source": [
        "# print the names of the features\n",
        "print(wine.feature_names)"
      ],
      "id": "Xid12LqUJ-o9",
      "execution_count": null,
      "outputs": [
        {
          "output_type": "stream",
          "text": [
            "['alcohol', 'malic_acid', 'ash', 'alcalinity_of_ash', 'magnesium', 'total_phenols', 'flavanoids', 'nonflavanoid_phenols', 'proanthocyanins', 'color_intensity', 'hue', 'od280/od315_of_diluted_wines', 'proline']\n"
          ],
          "name": "stdout"
        }
      ]
    },
    {
      "cell_type": "code",
      "metadata": {
        "colab": {
          "base_uri": "https://localhost:8080/"
        },
        "id": "QNV_on0wKAko",
        "outputId": "4f9b9acc-c375-42a2-bc23-c4a1856893ce"
      },
      "source": [
        "# print the names of the targets (wine labels)\n",
        "print(wine.target_names)"
      ],
      "id": "QNV_on0wKAko",
      "execution_count": null,
      "outputs": [
        {
          "output_type": "stream",
          "text": [
            "['class_0' 'class_1' 'class_2']\n"
          ],
          "name": "stdout"
        }
      ]
    },
    {
      "cell_type": "markdown",
      "metadata": {
        "id": "631ecd0e"
      },
      "source": [
        "Let's check top 5 records of the feature set.\n"
      ],
      "id": "631ecd0e"
    },
    {
      "cell_type": "code",
      "metadata": {
        "colab": {
          "base_uri": "https://localhost:8080/",
          "height": 35
        },
        "id": "ba94b5a2",
        "outputId": "990d1e69-b47f-49e4-bf16-177ce8b5f5fc"
      },
      "source": [
        "wine.data[0:5] \n",
        "\"\"\"YOU CAN SEE HOW THE DATA VARIES IN RANGE, SOME ARE IN HUNDREDS WHILE SOME \n",
        "ARE IN ONES. \"\"\""
      ],
      "id": "ba94b5a2",
      "execution_count": null,
      "outputs": [
        {
          "output_type": "execute_result",
          "data": {
            "application/vnd.google.colaboratory.intrinsic+json": {
              "type": "string"
            },
            "text/plain": [
              "'YOU CAN SEE HOW THE DATA VARIES IN RANGE, SOME ARE IN HUNDREDS WHILE SOME \\nARE IN ONES. '"
            ]
          },
          "metadata": {
            "tags": []
          },
          "execution_count": 127
        }
      ]
    },
    {
      "cell_type": "markdown",
      "metadata": {
        "id": "e0ddb9e7"
      },
      "source": [
        "Let's check records of the target set.\n"
      ],
      "id": "e0ddb9e7"
    },
    {
      "cell_type": "code",
      "metadata": {
        "colab": {
          "base_uri": "https://localhost:8080/"
        },
        "id": "7bc8b673",
        "outputId": "be6f7226-8d8a-43f9-8dee-14d9af5ae838"
      },
      "source": [
        "# print the wine labels (0:Class_0, 1:Class_1, 2:Class_3)\n",
        "print(wine.target)"
      ],
      "id": "7bc8b673",
      "execution_count": null,
      "outputs": [
        {
          "output_type": "stream",
          "text": [
            "[0 0 0 0 0 0 0 0 0 0 0 0 0 0 0 0 0 0 0 0 0 0 0 0 0 0 0 0 0 0 0 0 0 0 0 0 0\n",
            " 0 0 0 0 0 0 0 0 0 0 0 0 0 0 0 0 0 0 0 0 0 0 1 1 1 1 1 1 1 1 1 1 1 1 1 1 1\n",
            " 1 1 1 1 1 1 1 1 1 1 1 1 1 1 1 1 1 1 1 1 1 1 1 1 1 1 1 1 1 1 1 1 1 1 1 1 1\n",
            " 1 1 1 1 1 1 1 1 1 1 1 1 1 1 1 1 1 1 1 2 2 2 2 2 2 2 2 2 2 2 2 2 2 2 2 2 2\n",
            " 2 2 2 2 2 2 2 2 2 2 2 2 2 2 2 2 2 2 2 2 2 2 2 2 2 2 2 2 2 2]\n"
          ],
          "name": "stdout"
        }
      ]
    },
    {
      "cell_type": "markdown",
      "metadata": {
        "id": "f3991481"
      },
      "source": [
        "Let's explore it for a bit more. You can also check the shape of the dataset using shape.\n"
      ],
      "id": "f3991481"
    },
    {
      "cell_type": "code",
      "metadata": {
        "colab": {
          "base_uri": "https://localhost:8080/"
        },
        "id": "e947d4ca",
        "outputId": "44741f6c-61a5-4362-c264-d117be97d005"
      },
      "source": [
        "wine.data.shape"
      ],
      "id": "e947d4ca",
      "execution_count": null,
      "outputs": [
        {
          "output_type": "execute_result",
          "data": {
            "text/plain": [
              "(178, 13)"
            ]
          },
          "metadata": {
            "tags": []
          },
          "execution_count": 129
        }
      ]
    },
    {
      "cell_type": "code",
      "metadata": {
        "colab": {
          "base_uri": "https://localhost:8080/"
        },
        "id": "e871c681",
        "outputId": "5bd92cff-dff5-4311-a9f1-35ad04c11be4"
      },
      "source": [
        "# print target(or label)shape\n",
        "print(wine.target.shape)"
      ],
      "id": "e871c681",
      "execution_count": null,
      "outputs": [
        {
          "output_type": "stream",
          "text": [
            "(178,)\n"
          ],
          "name": "stdout"
        }
      ]
    },
    {
      "cell_type": "code",
      "metadata": {
        "id": "Gi0aVd7wTppG"
      },
      "source": [
        "\"\"\"THIS CODE WILL SET THE DATA TO A DATAFRAME\"\"\"\n",
        "\n",
        "wine = pd.DataFrame(data=np.c_[wine['data'], wine['target']],\n",
        "columns=wine['feature_names'] + ['target'])"
      ],
      "id": "Gi0aVd7wTppG",
      "execution_count": null,
      "outputs": []
    },
    {
      "cell_type": "markdown",
      "metadata": {
        "id": "i0st7FgYTyKB"
      },
      "source": [
        "\n",
        "####Using StandardScaler library\n",
        "\n",
        "Show the displot plot of data before scaling it. Use:\n",
        "\n",
        "1.   sns.distplot( ad_data[\"col_name1\"] , color=\"\")\n",
        "\n",
        "YOu can see how varied the data is. In order to compare it, they must be in the same range. \n",
        "\n",
        "**How to standardize data**:\n",
        "\n",
        "\n",
        "- from sklearn.preprocessing import StandardScaler\n",
        "- define scaler\n",
        "> scalar = StandardScaler()\n",
        "\n",
        "- scalar.fit(pd)\n",
        "> fit() calculates the parameters (𝜇,std,var) when StandardScaler used\n",
        "\n",
        "- scaled_features = scalar.transform(pd)\n",
        "> transforms the data\n",
        "\n"
      ],
      "id": "i0st7FgYTyKB"
    },
    {
      "cell_type": "code",
      "metadata": {
        "colab": {
          "base_uri": "https://localhost:8080/",
          "height": 385
        },
        "id": "kL_OJ2xXRltr",
        "outputId": "d3120bbb-a7cf-4534-95fe-55b70188ce6d"
      },
      "source": [
        "import seaborn as sns\n",
        "%matplotlib inline\n",
        "import matplotlib.pyplot as plt\n",
        "\n",
        "sns.distplot( wine[\"ash\"] , color=\"skyblue\")\n",
        "sns.distplot( wine[\"nonflavanoid_phenols\"] , color=\"red\")\n",
        "plt.xlabel(\"Comparing ash and nonflavanoid_phenols\")\n",
        "\n"
      ],
      "id": "kL_OJ2xXRltr",
      "execution_count": null,
      "outputs": [
        {
          "output_type": "stream",
          "text": [
            "/usr/local/lib/python3.7/dist-packages/seaborn/distributions.py:2557: FutureWarning: `distplot` is a deprecated function and will be removed in a future version. Please adapt your code to use either `displot` (a figure-level function with similar flexibility) or `histplot` (an axes-level function for histograms).\n",
            "  warnings.warn(msg, FutureWarning)\n",
            "/usr/local/lib/python3.7/dist-packages/seaborn/distributions.py:2557: FutureWarning: `distplot` is a deprecated function and will be removed in a future version. Please adapt your code to use either `displot` (a figure-level function with similar flexibility) or `histplot` (an axes-level function for histograms).\n",
            "  warnings.warn(msg, FutureWarning)\n"
          ],
          "name": "stderr"
        },
        {
          "output_type": "execute_result",
          "data": {
            "text/plain": [
              "Text(0.5, 0, 'Comparing ash and nonflavanoid_phenols')"
            ]
          },
          "metadata": {
            "tags": []
          },
          "execution_count": 132
        },
        {
          "output_type": "display_data",
          "data": {
            "image/png": "[encoded data removed]",
            "text/plain": [
              "<Figure size 432x288 with 1 Axes>"
            ]
          },
          "metadata": {
            "tags": [],
            "needs_background": "light"
          }
        }
      ]
    },
    {
      "cell_type": "code",
      "metadata": {
        "id": "QROFG6ny4SvY"
      },
      "source": [
        "# Using StandardScaler library\n",
        "from sklearn.preprocessing import StandardScaler"
      ],
      "id": "QROFG6ny4SvY",
      "execution_count": null,
      "outputs": []
    },
    {
      "cell_type": "code",
      "metadata": {
        "id": "UW1bJ0sV4fu1"
      },
      "source": [
        "# define scaler\n",
        "scalar = StandardScaler()"
      ],
      "id": "UW1bJ0sV4fu1",
      "execution_count": null,
      "outputs": []
    },
    {
      "cell_type": "code",
      "metadata": {
        "id": "y-Y5CnEn4kLv",
        "colab": {
          "base_uri": "https://localhost:8080/"
        },
        "outputId": "66708fd2-b645-40c5-cf47-98f0ee238753"
      },
      "source": [
        "# fit the data in the scaling object\n",
        "\n",
        "scalar.fit(wine)"
      ],
      "id": "y-Y5CnEn4kLv",
      "execution_count": null,
      "outputs": [
        {
          "output_type": "execute_result",
          "data": {
            "text/plain": [
              "StandardScaler(copy=True, with_mean=True, with_std=True)"
            ]
          },
          "metadata": {
            "tags": []
          },
          "execution_count": 135
        }
      ]
    },
    {
      "cell_type": "code",
      "metadata": {
        "id": "pkzkcuc4LZip",
        "colab": {
          "base_uri": "https://localhost:8080/",
          "height": 162
        },
        "outputId": "b4e7b743-d68d-4a95-f252-9a38ff800ef8"
      },
      "source": [
        "\"\"\"\n",
        "1. Transforming(standardizing) the data\n",
        "2. Putting transformed data into another DF & with orginal column names\n",
        "3. Drppping the target column b/c just want to compare the features\n",
        "   (target would just mess up b/c only 3 distint classes)\n",
        "\"\"\"\n",
        "\n",
        "scaled_features = scalar.transform(wine)\n",
        "df_features = pd.DataFrame(scaled_features, columns=wine.columns[:])\n",
        "df_features.drop('target',axis=1, inplace=True)\n",
        "df_features.head(3)"
      ],
      "id": "pkzkcuc4LZip",
      "execution_count": null,
      "outputs": [
        {
          "output_type": "execute_result",
          "data": {
            "text/html": [
              "<div>\n",
              "<style scoped>\n",
              "    .dataframe tbody tr th:only-of-type {\n",
              "        vertical-align: middle;\n",
              "    }\n",
              "\n",
              "    .dataframe tbody tr th {\n",
              "        vertical-align: top;\n",
              "    }\n",
              "\n",
              "    .dataframe thead th {\n",
              "        text-align: right;\n",
              "    }\n",
              "</style>\n",
              "<table border=\"1\" class=\"dataframe\">\n",
              "  <thead>\n",
              "    <tr style=\"text-align: right;\">\n",
              "      <th></th>\n",
              "      <th>alcohol</th>\n",
              "      <th>malic_acid</th>\n",
              "      <th>ash</th>\n",
              "      <th>alcalinity_of_ash</th>\n",
              "      <th>magnesium</th>\n",
              "      <th>total_phenols</th>\n",
              "      <th>flavanoids</th>\n",
              "      <th>nonflavanoid_phenols</th>\n",
              "      <th>proanthocyanins</th>\n",
              "      <th>color_intensity</th>\n",
              "      <th>hue</th>\n",
              "      <th>od280/od315_of_diluted_wines</th>\n",
              "      <th>proline</th>\n",
              "    </tr>\n",
              "  </thead>\n",
              "  <tbody>\n",
              "    <tr>\n",
              "      <th>0</th>\n",
              "      <td>1.518613</td>\n",
              "      <td>-0.562250</td>\n",
              "      <td>0.232053</td>\n",
              "      <td>-1.169593</td>\n",
              "      <td>1.913905</td>\n",
              "      <td>0.808997</td>\n",
              "      <td>1.034819</td>\n",
              "      <td>-0.659563</td>\n",
              "      <td>1.224884</td>\n",
              "      <td>0.251717</td>\n",
              "      <td>0.362177</td>\n",
              "      <td>1.847920</td>\n",
              "      <td>1.013009</td>\n",
              "    </tr>\n",
              "    <tr>\n",
              "      <th>1</th>\n",
              "      <td>0.246290</td>\n",
              "      <td>-0.499413</td>\n",
              "      <td>-0.827996</td>\n",
              "      <td>-2.490847</td>\n",
              "      <td>0.018145</td>\n",
              "      <td>0.568648</td>\n",
              "      <td>0.733629</td>\n",
              "      <td>-0.820719</td>\n",
              "      <td>-0.544721</td>\n",
              "      <td>-0.293321</td>\n",
              "      <td>0.406051</td>\n",
              "      <td>1.113449</td>\n",
              "      <td>0.965242</td>\n",
              "    </tr>\n",
              "    <tr>\n",
              "      <th>2</th>\n",
              "      <td>0.196879</td>\n",
              "      <td>0.021231</td>\n",
              "      <td>1.109334</td>\n",
              "      <td>-0.268738</td>\n",
              "      <td>0.088358</td>\n",
              "      <td>0.808997</td>\n",
              "      <td>1.215533</td>\n",
              "      <td>-0.498407</td>\n",
              "      <td>2.135968</td>\n",
              "      <td>0.269020</td>\n",
              "      <td>0.318304</td>\n",
              "      <td>0.788587</td>\n",
              "      <td>1.395148</td>\n",
              "    </tr>\n",
              "  </tbody>\n",
              "</table>\n",
              "</div>"
            ],
            "text/plain": [
              "    alcohol  malic_acid  ...  od280/od315_of_diluted_wines   proline\n",
              "0  1.518613   -0.562250  ...                      1.847920  1.013009\n",
              "1  0.246290   -0.499413  ...                      1.113449  0.965242\n",
              "2  0.196879    0.021231  ...                      0.788587  1.395148\n",
              "\n",
              "[3 rows x 13 columns]"
            ]
          },
          "metadata": {
            "tags": []
          },
          "execution_count": 136
        }
      ]
    },
    {
      "cell_type": "code",
      "metadata": {
        "id": "c50hbwYs8b9c",
        "colab": {
          "base_uri": "https://localhost:8080/",
          "height": 385
        },
        "outputId": "4a39e210-c8c1-4787-a5f7-5e70dd48895a"
      },
      "source": [
        "#After standardization of data, much more neater\n",
        "sns.distplot( df_features[\"ash\"] , color=\"skyblue\")\n",
        "sns.distplot( df_features[\"nonflavanoid_phenols\"] , color=\"red\")"
      ],
      "id": "c50hbwYs8b9c",
      "execution_count": null,
      "outputs": [
        {
          "output_type": "stream",
          "text": [
            "/usr/local/lib/python3.7/dist-packages/seaborn/distributions.py:2557: FutureWarning: `distplot` is a deprecated function and will be removed in a future version. Please adapt your code to use either `displot` (a figure-level function with similar flexibility) or `histplot` (an axes-level function for histograms).\n",
            "  warnings.warn(msg, FutureWarning)\n",
            "/usr/local/lib/python3.7/dist-packages/seaborn/distributions.py:2557: FutureWarning: `distplot` is a deprecated function and will be removed in a future version. Please adapt your code to use either `displot` (a figure-level function with similar flexibility) or `histplot` (an axes-level function for histograms).\n",
            "  warnings.warn(msg, FutureWarning)\n"
          ],
          "name": "stderr"
        },
        {
          "output_type": "execute_result",
          "data": {
            "text/plain": [
              "<matplotlib.axes._subplots.AxesSubplot at 0x7f35fcb84a90>"
            ]
          },
          "metadata": {
            "tags": []
          },
          "execution_count": 137
        },
        {
          "output_type": "display_data",
          "data": {
            "image/png": "[encoded data removed]",
            "text/plain": [
              "<Figure size 432x288 with 1 Axes>"
            ]
          },
          "metadata": {
            "tags": [],
            "needs_background": "light"
          }
        }
      ]
    },
    {
      "cell_type": "markdown",
      "metadata": {
        "id": "9c07aee8"
      },
      "source": [
        "#### Splitting Data\n",
        "\n",
        "To understand model performance, dividing the dataset into a training set and a test set is a good strategy.\n",
        "\n",
        "Let's split dataset by using function train_test_split(). You need to pass 3 parameters features, target, and test_set size. Additionally, you can use random_state to select records randomly.\n"
      ],
      "id": "9c07aee8"
    },
    {
      "cell_type": "code",
      "metadata": {
        "id": "b30a8321"
      },
      "source": [
        "# Import train_test_split function\n",
        "from sklearn.model_selection import train_test_split\n",
        "\n",
        "# Split dataset into training set and test set\n",
        "X_train, X_test, y_train, y_test = train_test_split(wine, wine.target, test_size=0.3) # 70% training and 30% test"
      ],
      "id": "b30a8321",
      "execution_count": null,
      "outputs": []
    },
    {
      "cell_type": "markdown",
      "metadata": {
        "id": "7361e3da"
      },
      "source": [
        "#### Generating Model for K=5\n",
        "\n",
        "Let's build KNN classifier model for k=5.\n"
      ],
      "id": "7361e3da"
    },
    {
      "cell_type": "code",
      "metadata": {
        "id": "6913c46c",
        "colab": {
          "base_uri": "https://localhost:8080/",
          "height": 35
        },
        "outputId": "4bbf5b7f-56fd-4324-edb1-a653ee0477ec"
      },
      "source": [
        "#Import knearest neighbors Classifier model\n",
        "from sklearn.neighbors import KNeighborsClassifier\n",
        "\n",
        "#Create KNN Classifier\n",
        "knn = KNeighborsClassifier(n_neighbors=5)\n",
        "\n",
        "#Train the model using the training sets\n",
        "knn.fit(X_train, y_train)\n",
        "\n",
        "#Predict the response for test dataset\n",
        "y_pred = knn.predict(X_test)\n",
        "\n",
        "\"\"\"\n",
        "Now have 5 subsets of data:\n",
        "1. X_train\n",
        "2. X_test\n",
        "3. y_train\n",
        "4. y_test\n",
        "5. y_pred\n",
        "\"\"\""
      ],
      "id": "6913c46c",
      "execution_count": null,
      "outputs": [
        {
          "output_type": "execute_result",
          "data": {
            "application/vnd.google.colaboratory.intrinsic+json": {
              "type": "string"
            },
            "text/plain": [
              "'\\nNow have 5 subsets of data:\\n1. X_train\\n2. X_test\\n3. y_train\\n4. y_test\\n5. y_pred\\n'"
            ]
          },
          "metadata": {
            "tags": []
          },
          "execution_count": 139
        }
      ]
    },
    {
      "cell_type": "markdown",
      "metadata": {
        "id": "18af30b7"
      },
      "source": [
        "#### Model Evaluation for k=5\n",
        "\n",
        "Let's estimate, how accurately the classifier or model can predict the type of cultivars.\n",
        "\n",
        "Accuracy can be computed by comparing actual test set values and predicted values.\n"
      ],
      "id": "18af30b7"
    },
    {
      "cell_type": "code",
      "metadata": {
        "id": "cf82e938",
        "colab": {
          "base_uri": "https://localhost:8080/"
        },
        "outputId": "3d80112d-ee82-41ca-df64-4a299533887b"
      },
      "source": [
        "#Import scikit-learn metrics module for accuracy calculation\n",
        "from sklearn import metrics\n",
        "\n",
        "# Model Accuracy, how often is the classifier correct?\n",
        "print(\"Accuracy:\",metrics.accuracy_score(y_test, y_pred))"
      ],
      "id": "cf82e938",
      "execution_count": null,
      "outputs": [
        {
          "output_type": "stream",
          "text": [
            "Accuracy: 0.7777777777777778\n"
          ],
          "name": "stdout"
        }
      ]
    },
    {
      "cell_type": "markdown",
      "metadata": {
        "id": "ea5966f9"
      },
      "source": [
        "Well, you got a classification rate of 70.37%, considered as good accuracy.\n",
        "\n",
        "For further evaluation, you can also create a model for a different number of neighbors.\n",
        "\n",
        "#### Re-generating Model for K=2\n",
        "\n",
        "Let's build KNN classifier model for k=2.\n"
      ],
      "id": "ea5966f9"
    },
    {
      "cell_type": "code",
      "metadata": {
        "id": "e2286c4e"
      },
      "source": [
        "#Import knearest neighbors Classifier model\n",
        "from sklearn.neighbors import KNeighborsClassifier\n",
        "\n",
        "#Create KNN Classifier\n",
        "knn = KNeighborsClassifier(n_neighbors=2)\n",
        "\n",
        "#Train the model using the training sets\n",
        "knn.fit(X_train, y_train)\n",
        "\n",
        "#Predict the response for test dataset\n",
        "y_pred = knn.predict(X_test)"
      ],
      "id": "e2286c4e",
      "execution_count": null,
      "outputs": []
    },
    {
      "cell_type": "markdown",
      "metadata": {
        "id": "b937226a"
      },
      "source": [
        "#### Model Evaluation for k=2\n",
        "\n",
        "Let's again estimate, how accurately the classifier or model can predict the type of cultivars for k=2.\n"
      ],
      "id": "b937226a"
    },
    {
      "cell_type": "code",
      "metadata": {
        "id": "e16b536b",
        "colab": {
          "base_uri": "https://localhost:8080/"
        },
        "outputId": "eadb9a29-7df3-448d-912b-45822fe44ec5"
      },
      "source": [
        "#Import scikit-learn metrics module for accuracy calculation\n",
        "from sklearn import metrics\n",
        "\n",
        "# Model Accuracy, how often is the classifier correct?\n",
        "print(\"Accuracy:\",metrics.accuracy_score(y_test, y_pred))"
      ],
      "id": "e16b536b",
      "execution_count": null,
      "outputs": [
        {
          "output_type": "stream",
          "text": [
            "Accuracy: 0.7407407407407407\n"
          ],
          "name": "stdout"
        }
      ]
    },
    {
      "cell_type": "markdown",
      "metadata": {
        "id": "4fddbbb8"
      },
      "source": [
        "Well, you got a classification rate of 68.51%, considered as good accuracy.\n",
        "\n",
        "Here, you have decreased the number of neighbors in the model and accuracy got increased. This shows that it is not necessary for each case that an increase in many neighbors increases the accuracy. For a more detailed understanding of it, you can refer section \"How to decide the number of neighbors?\" of this tutorial.\n",
        "\n",
        "#Conclusion\n",
        "\n",
        "## Pros\n",
        "\n",
        "The training phase of K-nearest neighbor classification is much faster compared to other classification algorithms. There is no need to train a model for generalization, That is why KNN is known as the simple and instance-based learning algorithm. KNN can be useful in case of nonlinear data. It can be used with the regression problem. Output value for the object is computed by the average of k closest neighbors value.\n",
        "\n",
        "## Cons\n",
        "\n",
        "The testing phase of K-nearest neighbor classification is slower and costlier in terms of time and memory. It requires large memory for storing the entire training dataset for prediction. KNN requires scaling of data because KNN uses the Euclidean distance between two data points to find nearest neighbors. Euclidean distance is sensitive to magnitudes. The features with high magnitudes will weight more than features with low magnitudes. KNN also not suitable for large dimensional data.\n",
        "\n",
        "## How to improve KNN?\n",
        "\n",
        "For better results, normalizing data on the same scale is highly recommended. Generally, the normalization range considered between 0 and 1. KNN is not suitable for the large dimensional data. In such cases, dimension needs to reduce to improve the performance. Also, handling missing values will help us in improving results.\n",
        "\n",
        "\n",
        "Congratulations, you have made it to the end of this tutorial!\n",
        "\n",
        "In this tutorial, you have learned the K-Nearest Neighbor algorithm; it's working, eager and lazy learner, the curse of dimensionality, model building and evaluation on wine dataset using Python Scikit-learn package. Also, discussed its advantages, disadvantages, and performance improvement suggestions.\n",
        "\n",
        "I look forward to hearing any feedback or questions. You can ask questions by leaving a comment, and I will try my best to answer it."
      ],
      "id": "4fddbbb8"
    },
    {
      "cell_type": "code",
      "metadata": {
        "id": "QS4EG52ZfZ3N"
      },
      "source": [
        "# The sklearn. metrics module implements several loss, score, and utility functions to measure classification performance\n",
        "from sklearn import metrics\n"
      ],
      "id": "QS4EG52ZfZ3N",
      "execution_count": null,
      "outputs": []
    },
    {
      "cell_type": "markdown",
      "metadata": {
        "id": "gk3NPPt2X-Qa"
      },
      "source": [
        "\n",
        "##PLOT the Testing Accuracy' vs value of K \n",
        "\n",
        "\n",
        "\n"
      ],
      "id": "gk3NPPt2X-Qa"
    },
    {
      "cell_type": "code",
      "metadata": {
        "colab": {
          "base_uri": "https://localhost:8080/",
          "height": 476
        },
        "id": "In2L4K3me2hY",
        "outputId": "669eb097-294a-41f5-b3f2-314aa53c885f"
      },
      "source": [
        "score =[]\n",
        "\n",
        "# Run for k from 1 to 39\n",
        "# Pssing the value of K to KNeighborsClassifier\n",
        "# and calculating the acuracy score (y_test vs y_predect)\n",
        "for i in range(1,40):\n",
        "  knn = KNeighborsClassifier(n_neighbors=i) \n",
        "  knn.fit(X_train, y_train)\n",
        "  y_pred = knn.predict(X_test)\n",
        "  score.append(metrics.accuracy_score(y_test,y_pred))\n",
        "  #append() appends a passed obj (matrics.accuracy) into the existing list.(score)\n",
        "\n",
        "print(str(score)+\"\\n\\n\")\n",
        "\n",
        "\n",
        "plt.figure(figsize=(15,6))\n",
        "plt.plot(range(1,40),score, color='blue',linestyle='dashed',marker='o',markerfacecolor='red', markersize=10)\n",
        "plt.xlabel('Value of K for KNN')\n",
        "plt.ylabel('Testing Accuracy')"
      ],
      "id": "In2L4K3me2hY",
      "execution_count": null,
      "outputs": [
        {
          "output_type": "stream",
          "text": [
            "[0.8148148148148148, 0.7407407407407407, 0.7407407407407407, 0.7962962962962963, 0.7777777777777778, 0.8148148148148148, 0.7777777777777778, 0.7592592592592593, 0.7962962962962963, 0.7962962962962963, 0.7962962962962963, 0.7777777777777778, 0.7777777777777778, 0.7592592592592593, 0.7777777777777778, 0.7777777777777778, 0.7777777777777778, 0.7777777777777778, 0.8148148148148148, 0.7777777777777778, 0.7777777777777778, 0.7777777777777778, 0.7962962962962963, 0.7962962962962963, 0.7777777777777778, 0.7777777777777778, 0.7777777777777778, 0.7777777777777778, 0.7962962962962963, 0.7962962962962963, 0.7962962962962963, 0.7962962962962963, 0.7962962962962963, 0.7962962962962963, 0.7777777777777778, 0.7962962962962963, 0.8148148148148148, 0.8148148148148148, 0.7962962962962963]\n",
            "\n",
            "\n"
          ],
          "name": "stdout"
        },
        {
          "output_type": "execute_result",
          "data": {
            "text/plain": [
              "Text(0, 0.5, 'Testing Accuracy')"
            ]
          },
          "metadata": {
            "tags": []
          },
          "execution_count": 144
        },
        {
          "output_type": "display_data",
          "data": {
            "image/png": "[encoded data removed]",
            "text/plain": [
              "<Figure size 1080x432 with 1 Axes>"
            ]
          },
          "metadata": {
            "tags": [],
            "needs_background": "light"
          }
        }
      ]
    },
    {
      "cell_type": "markdown",
      "metadata": {
        "id": "fL_FeLlMfQuG"
      },
      "source": [
        "##PLOT the Error Rate vs value of K \n"
      ],
      "id": "fL_FeLlMfQuG"
    },
    {
      "cell_type": "code",
      "metadata": {
        "colab": {
          "base_uri": "https://localhost:8080/",
          "height": 509
        },
        "id": "VwOnlxbgfUUQ",
        "outputId": "db128c01-d903-46c8-9a4a-7a953d5aacc7"
      },
      "source": [
        "error_rate = []\n",
        "\n",
        "# Might take some time\n",
        "for i in range(1,40):\n",
        "    \n",
        "    knn = KNeighborsClassifier(n_neighbors=i)\n",
        "    knn.fit(X_train,y_train)\n",
        "    pred_i = knn.predict(X_test)\n",
        "    error_rate.append(np.mean(pred_i != y_test))#will return the fraction \n",
        "    #of those results who failed to match the test - hence your error.\n",
        "    #Note that != will return True for those that do not match the test values because you are interested in error.\n",
        "\n",
        "print(str(error_rate)+\"\\n\\n\")\n",
        "\n",
        "\n",
        "plt.figure(figsize=(15,6))\n",
        "plt.plot(range(1,40),error_rate,color='red', linestyle='dashed', marker='o',\n",
        "         markerfacecolor='blue', markersize=10)\n",
        "plt.title('Error Rate vs. K Value')\n",
        "plt.xlabel('K')\n",
        "plt.ylabel('Error Rate')\n",
        "print(\"Minimum error:-\",min(error_rate),\"at K =\",error_rate.index(min(error_rate)))\n",
        "print(\"Maximum error:-\",max(error_rate),\"at K =\",error_rate.index(max(error_rate)))"
      ],
      "id": "VwOnlxbgfUUQ",
      "execution_count": null,
      "outputs": [
        {
          "output_type": "stream",
          "text": [
            "[0.18518518518518517, 0.25925925925925924, 0.25925925925925924, 0.2037037037037037, 0.2222222222222222, 0.18518518518518517, 0.2222222222222222, 0.24074074074074073, 0.2037037037037037, 0.2037037037037037, 0.2037037037037037, 0.2222222222222222, 0.2222222222222222, 0.24074074074074073, 0.2222222222222222, 0.2222222222222222, 0.2222222222222222, 0.2222222222222222, 0.18518518518518517, 0.2222222222222222, 0.2222222222222222, 0.2222222222222222, 0.2037037037037037, 0.2037037037037037, 0.2222222222222222, 0.2222222222222222, 0.2222222222222222, 0.2222222222222222, 0.2037037037037037, 0.2037037037037037, 0.2037037037037037, 0.2037037037037037, 0.2037037037037037, 0.2037037037037037, 0.2222222222222222, 0.2037037037037037, 0.18518518518518517, 0.18518518518518517, 0.2037037037037037]\n",
            "\n",
            "\n",
            "Minimum error:- 0.18518518518518517 at K = 0\n",
            "Maximum error:- 0.25925925925925924 at K = 1\n"
          ],
          "name": "stdout"
        },
        {
          "output_type": "display_data",
          "data": {
            "image/png": "[encoded data removed]",
            "text/plain": [
              "<Figure size 1080x432 with 1 Axes>"
            ]
          },
          "metadata": {
            "tags": [],
            "needs_background": "light"
          }
        }
      ]
    }
  ]
}