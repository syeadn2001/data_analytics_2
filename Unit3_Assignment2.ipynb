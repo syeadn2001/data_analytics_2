{
  "nbformat": 4,
  "nbformat_minor": 0,
  "metadata": {
    "colab": {
      "name": "Unit3_Assignment2.ipynb",
      "provenance": [],
      "collapsed_sections": [],
      "authorship_tag": "ABX9TyMEf9ojCjwZfa+cMUD9Yevu",
      "include_colab_link": true
    },
    "kernelspec": {
      "name": "python3",
      "display_name": "Python 3"
    },
    "language_info": {
      "name": "python"
    }
  },
  "cells": [
    {
      "cell_type": "markdown",
      "metadata": {
        "id": "view-in-github",
        "colab_type": "text"
      },
      "source": [
        "<a href=\"https://colab.research.google.com/github/syeadn2001/data_analytics_2/blob/main/Unit3_Assignment2.ipynb\" target=\"_parent\"><img src=\"https://colab.research.google.com/assets/colab-badge.svg\" alt=\"Open In Colab\"/></a>"
      ]
    },
    {
      "cell_type": "markdown",
      "metadata": {
        "id": "XJ0aPZrt_ntK"
      },
      "source": [
        "#Unit 3 - Advanced Python - NumPy - Assignment #2"
      ]
    },
    {
      "cell_type": "markdown",
      "metadata": {
        "id": "19GOmSfy_uxv"
      },
      "source": [
        "Given:"
      ]
    },
    {
      "cell_type": "code",
      "metadata": {
        "id": "T-M3JZBr_nTZ"
      },
      "source": [
        "import numpy as np\n",
        "import pandas as pd\n",
        "import matplotlib.pyplot as plt\n",
        "\n",
        "%matplotlib inline"
      ],
      "execution_count": 27,
      "outputs": []
    },
    {
      "cell_type": "code",
      "metadata": {
        "id": "IPTJUmdSAEOW"
      },
      "source": [
        "df = pd.read_csv(\"https://raw.githubusercontent.com/CunyLaguardiaDataAnalytics/datasets/master/Salaries.csv\")"
      ],
      "execution_count": 28,
      "outputs": []
    },
    {
      "cell_type": "code",
      "metadata": {
        "colab": {
          "base_uri": "https://localhost:8080/"
        },
        "id": "CmTlvgF4Abav",
        "outputId": "617a12a8-76a5-4ec7-d3a7-86e78d01eabb"
      },
      "source": [
        "print(type(df))\n",
        "print(df.size)\n",
        "print(df.shape)\n",
        "print(df.columns)\n",
        "print(df.index)\n",
        "print(df)\n"
      ],
      "execution_count": 29,
      "outputs": [
        {
          "output_type": "stream",
          "text": [
            "<class 'pandas.core.frame.DataFrame'>\n",
            "2779\n",
            "(397, 7)\n",
            "Index(['Unnamed: 0', 'rank', 'discipline', 'yrs.since.phd', 'yrs.service',\n",
            "       'sex', 'salary'],\n",
            "      dtype='object')\n",
            "RangeIndex(start=0, stop=397, step=1)\n",
            "     Unnamed: 0      rank discipline  yrs.since.phd  yrs.service   sex  salary\n",
            "0             1      Prof          B             19           18  Male  139750\n",
            "1             2      Prof          B             20           16  Male  173200\n",
            "2             3  AsstProf          B              4            3  Male   79750\n",
            "3             4      Prof          B             45           39  Male  115000\n",
            "4             5      Prof          B             40           41  Male  141500\n",
            "..          ...       ...        ...            ...          ...   ...     ...\n",
            "392         393      Prof          A             33           30  Male  103106\n",
            "393         394      Prof          A             31           19  Male  150564\n",
            "394         395      Prof          A             42           25  Male  101738\n",
            "395         396      Prof          A             25           15  Male   95329\n",
            "396         397  AsstProf          A              8            4  Male   81035\n",
            "\n",
            "[397 rows x 7 columns]\n"
          ],
          "name": "stdout"
        }
      ]
    },
    {
      "cell_type": "code",
      "metadata": {
        "colab": {
          "base_uri": "https://localhost:8080/",
          "height": 297
        },
        "id": "UXTHBx6BFMTA",
        "outputId": "fa506b30-fbe1-4622-97cc-47ddadbdddb3"
      },
      "source": [
        "df.describe()"
      ],
      "execution_count": 30,
      "outputs": [
        {
          "output_type": "execute_result",
          "data": {
            "text/html": [
              "<div>\n",
              "<style scoped>\n",
              "    .dataframe tbody tr th:only-of-type {\n",
              "        vertical-align: middle;\n",
              "    }\n",
              "\n",
              "    .dataframe tbody tr th {\n",
              "        vertical-align: top;\n",
              "    }\n",
              "\n",
              "    .dataframe thead th {\n",
              "        text-align: right;\n",
              "    }\n",
              "</style>\n",
              "<table border=\"1\" class=\"dataframe\">\n",
              "  <thead>\n",
              "    <tr style=\"text-align: right;\">\n",
              "      <th></th>\n",
              "      <th>Unnamed: 0</th>\n",
              "      <th>yrs.since.phd</th>\n",
              "      <th>yrs.service</th>\n",
              "      <th>salary</th>\n",
              "    </tr>\n",
              "  </thead>\n",
              "  <tbody>\n",
              "    <tr>\n",
              "      <th>count</th>\n",
              "      <td>397.000000</td>\n",
              "      <td>397.000000</td>\n",
              "      <td>397.000000</td>\n",
              "      <td>397.000000</td>\n",
              "    </tr>\n",
              "    <tr>\n",
              "      <th>mean</th>\n",
              "      <td>199.000000</td>\n",
              "      <td>22.314861</td>\n",
              "      <td>17.614610</td>\n",
              "      <td>113706.458438</td>\n",
              "    </tr>\n",
              "    <tr>\n",
              "      <th>std</th>\n",
              "      <td>114.748275</td>\n",
              "      <td>12.887003</td>\n",
              "      <td>13.006024</td>\n",
              "      <td>30289.038695</td>\n",
              "    </tr>\n",
              "    <tr>\n",
              "      <th>min</th>\n",
              "      <td>1.000000</td>\n",
              "      <td>1.000000</td>\n",
              "      <td>0.000000</td>\n",
              "      <td>57800.000000</td>\n",
              "    </tr>\n",
              "    <tr>\n",
              "      <th>25%</th>\n",
              "      <td>100.000000</td>\n",
              "      <td>12.000000</td>\n",
              "      <td>7.000000</td>\n",
              "      <td>91000.000000</td>\n",
              "    </tr>\n",
              "    <tr>\n",
              "      <th>50%</th>\n",
              "      <td>199.000000</td>\n",
              "      <td>21.000000</td>\n",
              "      <td>16.000000</td>\n",
              "      <td>107300.000000</td>\n",
              "    </tr>\n",
              "    <tr>\n",
              "      <th>75%</th>\n",
              "      <td>298.000000</td>\n",
              "      <td>32.000000</td>\n",
              "      <td>27.000000</td>\n",
              "      <td>134185.000000</td>\n",
              "    </tr>\n",
              "    <tr>\n",
              "      <th>max</th>\n",
              "      <td>397.000000</td>\n",
              "      <td>56.000000</td>\n",
              "      <td>60.000000</td>\n",
              "      <td>231545.000000</td>\n",
              "    </tr>\n",
              "  </tbody>\n",
              "</table>\n",
              "</div>"
            ],
            "text/plain": [
              "       Unnamed: 0  yrs.since.phd  yrs.service         salary\n",
              "count  397.000000     397.000000   397.000000     397.000000\n",
              "mean   199.000000      22.314861    17.614610  113706.458438\n",
              "std    114.748275      12.887003    13.006024   30289.038695\n",
              "min      1.000000       1.000000     0.000000   57800.000000\n",
              "25%    100.000000      12.000000     7.000000   91000.000000\n",
              "50%    199.000000      21.000000    16.000000  107300.000000\n",
              "75%    298.000000      32.000000    27.000000  134185.000000\n",
              "max    397.000000      56.000000    60.000000  231545.000000"
            ]
          },
          "metadata": {
            "tags": []
          },
          "execution_count": 30
        }
      ]
    },
    {
      "cell_type": "code",
      "metadata": {
        "colab": {
          "base_uri": "https://localhost:8080/",
          "height": 204
        },
        "id": "Z2Qsg1SMBA8A",
        "outputId": "a56ad683-c4cf-47ee-d31c-1160603e36a0"
      },
      "source": [
        "df.head()"
      ],
      "execution_count": 31,
      "outputs": [
        {
          "output_type": "execute_result",
          "data": {
            "text/html": [
              "<div>\n",
              "<style scoped>\n",
              "    .dataframe tbody tr th:only-of-type {\n",
              "        vertical-align: middle;\n",
              "    }\n",
              "\n",
              "    .dataframe tbody tr th {\n",
              "        vertical-align: top;\n",
              "    }\n",
              "\n",
              "    .dataframe thead th {\n",
              "        text-align: right;\n",
              "    }\n",
              "</style>\n",
              "<table border=\"1\" class=\"dataframe\">\n",
              "  <thead>\n",
              "    <tr style=\"text-align: right;\">\n",
              "      <th></th>\n",
              "      <th>Unnamed: 0</th>\n",
              "      <th>rank</th>\n",
              "      <th>discipline</th>\n",
              "      <th>yrs.since.phd</th>\n",
              "      <th>yrs.service</th>\n",
              "      <th>sex</th>\n",
              "      <th>salary</th>\n",
              "    </tr>\n",
              "  </thead>\n",
              "  <tbody>\n",
              "    <tr>\n",
              "      <th>0</th>\n",
              "      <td>1</td>\n",
              "      <td>Prof</td>\n",
              "      <td>B</td>\n",
              "      <td>19</td>\n",
              "      <td>18</td>\n",
              "      <td>Male</td>\n",
              "      <td>139750</td>\n",
              "    </tr>\n",
              "    <tr>\n",
              "      <th>1</th>\n",
              "      <td>2</td>\n",
              "      <td>Prof</td>\n",
              "      <td>B</td>\n",
              "      <td>20</td>\n",
              "      <td>16</td>\n",
              "      <td>Male</td>\n",
              "      <td>173200</td>\n",
              "    </tr>\n",
              "    <tr>\n",
              "      <th>2</th>\n",
              "      <td>3</td>\n",
              "      <td>AsstProf</td>\n",
              "      <td>B</td>\n",
              "      <td>4</td>\n",
              "      <td>3</td>\n",
              "      <td>Male</td>\n",
              "      <td>79750</td>\n",
              "    </tr>\n",
              "    <tr>\n",
              "      <th>3</th>\n",
              "      <td>4</td>\n",
              "      <td>Prof</td>\n",
              "      <td>B</td>\n",
              "      <td>45</td>\n",
              "      <td>39</td>\n",
              "      <td>Male</td>\n",
              "      <td>115000</td>\n",
              "    </tr>\n",
              "    <tr>\n",
              "      <th>4</th>\n",
              "      <td>5</td>\n",
              "      <td>Prof</td>\n",
              "      <td>B</td>\n",
              "      <td>40</td>\n",
              "      <td>41</td>\n",
              "      <td>Male</td>\n",
              "      <td>141500</td>\n",
              "    </tr>\n",
              "  </tbody>\n",
              "</table>\n",
              "</div>"
            ],
            "text/plain": [
              "   Unnamed: 0      rank discipline  yrs.since.phd  yrs.service   sex  salary\n",
              "0           1      Prof          B             19           18  Male  139750\n",
              "1           2      Prof          B             20           16  Male  173200\n",
              "2           3  AsstProf          B              4            3  Male   79750\n",
              "3           4      Prof          B             45           39  Male  115000\n",
              "4           5      Prof          B             40           41  Male  141500"
            ]
          },
          "metadata": {
            "tags": []
          },
          "execution_count": 31
        }
      ]
    },
    {
      "cell_type": "code",
      "metadata": {
        "colab": {
          "base_uri": "https://localhost:8080/",
          "height": 204
        },
        "id": "Fn37amJcBVy1",
        "outputId": "88d71afd-ec6e-4246-8b10-ce53b5f9a158"
      },
      "source": [
        "df.tail()"
      ],
      "execution_count": 32,
      "outputs": [
        {
          "output_type": "execute_result",
          "data": {
            "text/html": [
              "<div>\n",
              "<style scoped>\n",
              "    .dataframe tbody tr th:only-of-type {\n",
              "        vertical-align: middle;\n",
              "    }\n",
              "\n",
              "    .dataframe tbody tr th {\n",
              "        vertical-align: top;\n",
              "    }\n",
              "\n",
              "    .dataframe thead th {\n",
              "        text-align: right;\n",
              "    }\n",
              "</style>\n",
              "<table border=\"1\" class=\"dataframe\">\n",
              "  <thead>\n",
              "    <tr style=\"text-align: right;\">\n",
              "      <th></th>\n",
              "      <th>Unnamed: 0</th>\n",
              "      <th>rank</th>\n",
              "      <th>discipline</th>\n",
              "      <th>yrs.since.phd</th>\n",
              "      <th>yrs.service</th>\n",
              "      <th>sex</th>\n",
              "      <th>salary</th>\n",
              "    </tr>\n",
              "  </thead>\n",
              "  <tbody>\n",
              "    <tr>\n",
              "      <th>392</th>\n",
              "      <td>393</td>\n",
              "      <td>Prof</td>\n",
              "      <td>A</td>\n",
              "      <td>33</td>\n",
              "      <td>30</td>\n",
              "      <td>Male</td>\n",
              "      <td>103106</td>\n",
              "    </tr>\n",
              "    <tr>\n",
              "      <th>393</th>\n",
              "      <td>394</td>\n",
              "      <td>Prof</td>\n",
              "      <td>A</td>\n",
              "      <td>31</td>\n",
              "      <td>19</td>\n",
              "      <td>Male</td>\n",
              "      <td>150564</td>\n",
              "    </tr>\n",
              "    <tr>\n",
              "      <th>394</th>\n",
              "      <td>395</td>\n",
              "      <td>Prof</td>\n",
              "      <td>A</td>\n",
              "      <td>42</td>\n",
              "      <td>25</td>\n",
              "      <td>Male</td>\n",
              "      <td>101738</td>\n",
              "    </tr>\n",
              "    <tr>\n",
              "      <th>395</th>\n",
              "      <td>396</td>\n",
              "      <td>Prof</td>\n",
              "      <td>A</td>\n",
              "      <td>25</td>\n",
              "      <td>15</td>\n",
              "      <td>Male</td>\n",
              "      <td>95329</td>\n",
              "    </tr>\n",
              "    <tr>\n",
              "      <th>396</th>\n",
              "      <td>397</td>\n",
              "      <td>AsstProf</td>\n",
              "      <td>A</td>\n",
              "      <td>8</td>\n",
              "      <td>4</td>\n",
              "      <td>Male</td>\n",
              "      <td>81035</td>\n",
              "    </tr>\n",
              "  </tbody>\n",
              "</table>\n",
              "</div>"
            ],
            "text/plain": [
              "     Unnamed: 0      rank discipline  yrs.since.phd  yrs.service   sex  salary\n",
              "392         393      Prof          A             33           30  Male  103106\n",
              "393         394      Prof          A             31           19  Male  150564\n",
              "394         395      Prof          A             42           25  Male  101738\n",
              "395         396      Prof          A             25           15  Male   95329\n",
              "396         397  AsstProf          A              8            4  Male   81035"
            ]
          },
          "metadata": {
            "tags": []
          },
          "execution_count": 32
        }
      ]
    },
    {
      "cell_type": "code",
      "metadata": {
        "colab": {
          "base_uri": "https://localhost:8080/"
        },
        "id": "xLEZxOCHCjmF",
        "outputId": "17458610-8b33-41fa-f8e9-f252555fd466"
      },
      "source": [
        "# Mean of all salaries\n",
        "print(df['salary'].mean())"
      ],
      "execution_count": 33,
      "outputs": [
        {
          "output_type": "stream",
          "text": [
            "113706.45843828715\n"
          ],
          "name": "stdout"
        }
      ]
    },
    {
      "cell_type": "code",
      "metadata": {
        "colab": {
          "base_uri": "https://localhost:8080/"
        },
        "id": "8qSgbqJaCxfT",
        "outputId": "b48e0e39-93ce-4117-be47-e385c138a58b"
      },
      "source": [
        "#Median of all salaries\n",
        "print(df['salary'].median())"
      ],
      "execution_count": 34,
      "outputs": [
        {
          "output_type": "stream",
          "text": [
            "107300.0\n"
          ],
          "name": "stdout"
        }
      ]
    },
    {
      "cell_type": "markdown",
      "metadata": {
        "id": "c6CiZn-l8wlZ"
      },
      "source": [
        "***Median Salary Between Gender and/or Rank***"
      ]
    },
    {
      "cell_type": "code",
      "metadata": {
        "id": "KjvtkQZAL7Uh",
        "colab": {
          "base_uri": "https://localhost:8080/"
        },
        "outputId": "742dd84e-fc52-40b2-91d8-d94376f4c23b"
      },
      "source": [
        "\"\"\"Making a new Data Frame that only has the columns 'sex' and 'salary'\"\"\"\n",
        "\n",
        "sexSalaryDF = df[['sex','salary']]\n",
        "print(sexSalaryDF)\n",
        "print(\"++++++++++++++++++++++++++++++++++++++++++++++++++++++++++++++++++++++\")\n",
        "\n",
        "\"\"\"Finding the Median salary for all males\"\"\"\n",
        "\n",
        "maleSalsDF = sexSalaryDF[sexSalaryDF['sex']=='Male']\n",
        "print(\"Male Salary Table\")\n",
        "print(maleSalsDF)\n",
        "print(\"Median Salary for Males is:\",maleSalsDF['salary'].median(),\"\\n\")\n",
        "print(\"++++++++++++++++++++++++++++++++++++++++++++++++++++++++++++++++++++++\")\n",
        "\n",
        "\"\"\"Finding the Median salary for all females\"\"\"\n",
        "femaleSalDF = sexSalaryDF[sexSalaryDF['sex']=='Female']\n",
        "print(\"Female Salary Table\")\n",
        "print(femaleSalDF.head(10))\n",
        "print(\"Median Salary for Females is:\",femaleSalDF['salary'].median())\n",
        "print(\"++++++++++++++++++++++++++++++++++++++++++++++++++++++++++++++++++++++\")\n",
        "\n",
        "\n",
        "\"\"\"Comparing Mean Salary of Males and Females\"\"\"\n",
        "meanDiff =  maleSalsDF['salary'].mean()-femaleSalDF['salary'].mean()\n",
        "formatMeanDiff = \"{:.2f}\".format(meanDiff)\n",
        "print(\"The difference between mean salaries of makes and females is: $\",str(formatMeanDiff))\n",
        "\n",
        "\n"
      ],
      "execution_count": 35,
      "outputs": [
        {
          "output_type": "stream",
          "text": [
            "      sex  salary\n",
            "0    Male  139750\n",
            "1    Male  173200\n",
            "2    Male   79750\n",
            "3    Male  115000\n",
            "4    Male  141500\n",
            "..    ...     ...\n",
            "392  Male  103106\n",
            "393  Male  150564\n",
            "394  Male  101738\n",
            "395  Male   95329\n",
            "396  Male   81035\n",
            "\n",
            "[397 rows x 2 columns]\n",
            "++++++++++++++++++++++++++++++++++++++++++++++++++++++++++++++++++++++\n",
            "Male Salary Table\n",
            "      sex  salary\n",
            "0    Male  139750\n",
            "1    Male  173200\n",
            "2    Male   79750\n",
            "3    Male  115000\n",
            "4    Male  141500\n",
            "..    ...     ...\n",
            "392  Male  103106\n",
            "393  Male  150564\n",
            "394  Male  101738\n",
            "395  Male   95329\n",
            "396  Male   81035\n",
            "\n",
            "[358 rows x 2 columns]\n",
            "Median Salary for Males is: 108043.0 \n",
            "\n",
            "++++++++++++++++++++++++++++++++++++++++++++++++++++++++++++++++++++++\n",
            "Female Salary Table\n",
            "       sex  salary\n",
            "9   Female  129000\n",
            "19  Female  137000\n",
            "24  Female   74830\n",
            "34  Female   80225\n",
            "35  Female   77000\n",
            "47  Female  151768\n",
            "48  Female  140096\n",
            "52  Female   74692\n",
            "63  Female  103613\n",
            "68  Female  111512\n",
            "Median Salary for Females is: 103750.0\n",
            "++++++++++++++++++++++++++++++++++++++++++++++++++++++++++++++++++++++\n",
            "The difference between mean salaries of makes and females is: $ 14088.01\n"
          ],
          "name": "stdout"
        }
      ]
    },
    {
      "cell_type": "markdown",
      "metadata": {
        "id": "JMHYmxISAe7s"
      },
      "source": [
        "***Data Wrangling – perform some basic transformations on the data***"
      ]
    },
    {
      "cell_type": "code",
      "metadata": {
        "colab": {
          "base_uri": "https://localhost:8080/"
        },
        "id": "1X_OJ-zmAegn",
        "outputId": "b0f9094f-cf28-4f9d-8de8-0abef24beac0"
      },
      "source": [
        "\"\"\"People who have 20 years of experience (Total: 157), (Mean Salary: 122,520.66)\"\"\"\n",
        "oldDF = df[df['yrs.service']>=20]\n",
        "list1 = np.array(range(157))\n",
        "#changing the index of the new data frame to properly index the data\n",
        "oldDF.set_index(list1, inplace=True)\n",
        "print(oldDF)\n",
        "print(\"Mean Salary of 20+ experience: \" + \"${:.2f}\".format(oldDF['salary'].mean()))\n",
        "print(\"++++++++++++++++++++++++++++++++++++++++++++++++++++++++++++++++++++++\")\n",
        "\n",
        "\"\"\"Comparing the salaries of people who have 20+ years of experience \n",
        "vs less than 20 years of experience\"\"\"\n",
        "\n",
        "youngDF = df[df['yrs.service']<20]\n",
        "print(youngDF)\n",
        "print(\"Mean Salary of <20 experience: \" + \"${:.2f}\".format(youngDF['salary'].mean()))\n",
        "print(\"The difference between people who have 20+ experiences vs those who\" +\n",
        "      \"do not is: \"+\"${:2f}\".format(oldDF['salary'].mean()-youngDF['salary'].mean()))\n",
        "print(\"++++++++++++++++++++++++++++++++++++++++++++++++++++++++++++++++++++++\")\n",
        "\n",
        "\"\"\"People who have salary of greater than or equal to 200,000\"\"\"\n",
        "richDF = df[df['salary']>=200000]\n",
        "print(richDF)\n",
        "print(\"The amount of people who have greater than $200000 is: \",str(richDF['salary'].count()))\n",
        "\n"
      ],
      "execution_count": 36,
      "outputs": [
        {
          "output_type": "stream",
          "text": [
            "     Unnamed: 0  rank discipline  yrs.since.phd  yrs.service   sex  salary\n",
            "0             4  Prof          B             45           39  Male  115000\n",
            "1             5  Prof          B             40           41  Male  141500\n",
            "2             7  Prof          B             30           23  Male  175000\n",
            "3             8  Prof          B             45           45  Male  147765\n",
            "4             9  Prof          B             21           20  Male  119250\n",
            "..          ...   ...        ...            ...          ...   ...     ...\n",
            "152         385  Prof          A             27           21  Male  125192\n",
            "153         387  Prof          A             29           27  Male  139219\n",
            "154         389  Prof          A             38           36  Male  119450\n",
            "155         393  Prof          A             33           30  Male  103106\n",
            "156         395  Prof          A             42           25  Male  101738\n",
            "\n",
            "[157 rows x 7 columns]\n",
            "Mean Salary of 20+ experience: $122520.66\n",
            "++++++++++++++++++++++++++++++++++++++++++++++++++++++++++++++++++++++\n",
            "     Unnamed: 0       rank discipline  ...  yrs.service     sex  salary\n",
            "0             1       Prof          B  ...           18    Male  139750\n",
            "1             2       Prof          B  ...           16    Male  173200\n",
            "2             3   AsstProf          B  ...            3    Male   79750\n",
            "5             6  AssocProf          B  ...            6    Male   97000\n",
            "9            10       Prof          B  ...           18  Female  129000\n",
            "..          ...        ...        ...  ...          ...     ...     ...\n",
            "390         391       Prof          A  ...           19    Male  166605\n",
            "391         392       Prof          A  ...           19    Male  151292\n",
            "393         394       Prof          A  ...           19    Male  150564\n",
            "395         396       Prof          A  ...           15    Male   95329\n",
            "396         397   AsstProf          A  ...            4    Male   81035\n",
            "\n",
            "[240 rows x 7 columns]\n",
            "Mean Salary of <20 experience: $107940.50\n",
            "The difference between people who have 20+ experiences vs those whodo not is: $14580.151884\n",
            "++++++++++++++++++++++++++++++++++++++++++++++++++++++++++++++++++++++\n",
            "     Unnamed: 0  rank discipline  yrs.since.phd  yrs.service   sex  salary\n",
            "43           44  Prof          B             38           38  Male  231545\n",
            "249         250  Prof          A             29            7  Male  204000\n",
            "364         365  Prof          A             43           43  Male  205500\n",
            "The amount of people who have greater than $200000 is:  3\n"
          ],
          "name": "stdout"
        }
      ]
    },
    {
      "cell_type": "markdown",
      "metadata": {
        "id": "xEmoR07BWxCz"
      },
      "source": [
        "**My Findings**\n",
        "\n",
        "\n",
        "As a result of my data wrangling, I discovered two intersting things. \n",
        "\n",
        "1. The male median and mean salary is significantly larger than their female counterparts. \n",
        "2. The mean salary of those who have 20+ years of experience compared to those\n",
        "who have less is a significant margin, illustratin how experience plays a factor\n",
        "in one's overall earnings from their respective professions. "
      ]
    },
    {
      "cell_type": "markdown",
      "metadata": {
        "id": "D335mP4UEkj6"
      },
      "source": [
        "**Rename values, subset columns, etc**\n"
      ]
    },
    {
      "cell_type": "code",
      "metadata": {
        "id": "DsZP6wcuCiFy"
      },
      "source": [
        "\"\"\"REMOVED 'UNNAMED: 0' COLUMN \"\"\"\n",
        "del df['Unnamed: 0']\n",
        "#df.drop(axis=1,columns='Unnamed: 0',inplace=True)\n"
      ],
      "execution_count": 37,
      "outputs": []
    },
    {
      "cell_type": "code",
      "metadata": {
        "colab": {
          "base_uri": "https://localhost:8080/"
        },
        "id": "t5ieA2fvEj-r",
        "outputId": "448bfd90-96d5-40bc-b8c3-a3c0bdd5f668"
      },
      "source": [
        "print(df)\n",
        "print(\"++++++++++++++++++++++++++++++++++++++++++++++++++++++++++++++++++++++\")\n",
        "\n",
        "\"\"\"RENAMED COLUMNS\"\"\"\n",
        "print(df.rename(columns={\"rank\":\"Profession\",\"discipline\":\"Discipline\",\"yrs.since.phd\":\"yrsSincePhD\",\"yrs.service\":\"yrsOfService\"},inplace=True))\n",
        "print(df)\n",
        "print(\"++++++++++++++++++++++++++++++++++++++++++++++++++++++++++++++++++++++\")\n",
        "\n",
        "\"\"\"Subset Columns\"\"\"\n",
        "\n",
        "salaryExperienceDF = df[['salary','yrsOfService']]\n",
        "print(salaryExperienceDF.sort_values(by=['salary']))\n",
        "print(\"++++++++++++++++++++++++++++++++++++++++++++++++++++++++++++++++++++++\")\n",
        "\n",
        "salaryUnder100_serviceYrs_DF= df[df['salary']<100000]\n",
        "salaryUnder100_serviceYrs_DF = salaryUnder100_serviceYrs_DF[['yrsOfService','salary']]\n",
        "print(salaryUnder100_serviceYrs_DF.sort_values(by=['yrsOfService']))\n",
        "print(\"++++++++++++++++++++++++++++++++++++++++++++++++++++++++++++++++++++++\")\n",
        "\n",
        "\n"
      ],
      "execution_count": 38,
      "outputs": [
        {
          "output_type": "stream",
          "text": [
            "         rank discipline  yrs.since.phd  yrs.service   sex  salary\n",
            "0        Prof          B             19           18  Male  139750\n",
            "1        Prof          B             20           16  Male  173200\n",
            "2    AsstProf          B              4            3  Male   79750\n",
            "3        Prof          B             45           39  Male  115000\n",
            "4        Prof          B             40           41  Male  141500\n",
            "..        ...        ...            ...          ...   ...     ...\n",
            "392      Prof          A             33           30  Male  103106\n",
            "393      Prof          A             31           19  Male  150564\n",
            "394      Prof          A             42           25  Male  101738\n",
            "395      Prof          A             25           15  Male   95329\n",
            "396  AsstProf          A              8            4  Male   81035\n",
            "\n",
            "[397 rows x 6 columns]\n",
            "++++++++++++++++++++++++++++++++++++++++++++++++++++++++++++++++++++++\n",
            "None\n",
            "    Profession Discipline  yrsSincePhD  yrsOfService   sex  salary\n",
            "0         Prof          B           19            18  Male  139750\n",
            "1         Prof          B           20            16  Male  173200\n",
            "2     AsstProf          B            4             3  Male   79750\n",
            "3         Prof          B           45            39  Male  115000\n",
            "4         Prof          B           40            41  Male  141500\n",
            "..         ...        ...          ...           ...   ...     ...\n",
            "392       Prof          A           33            30  Male  103106\n",
            "393       Prof          A           31            19  Male  150564\n",
            "394       Prof          A           42            25  Male  101738\n",
            "395       Prof          A           25            15  Male   95329\n",
            "396   AsstProf          A            8             4  Male   81035\n",
            "\n",
            "[397 rows x 6 columns]\n",
            "++++++++++++++++++++++++++++++++++++++++++++++++++++++++++++++++++++++\n",
            "     salary  yrsOfService\n",
            "282   57800            51\n",
            "123   62884            22\n",
            "237   63100             6\n",
            "226   63900             1\n",
            "317   67559            45\n",
            "..      ...           ...\n",
            "77   193000            19\n",
            "271  194800            18\n",
            "249  204000             7\n",
            "364  205500            43\n",
            "43   231545            38\n",
            "\n",
            "[397 rows x 2 columns]\n",
            "++++++++++++++++++++++++++++++++++++++++++++++++++++++++++++++++++++++\n",
            "     yrsOfService  salary\n",
            "95              0   84000\n",
            "127             0   72500\n",
            "13              0   78000\n",
            "157             0   88000\n",
            "308             0   74000\n",
            "..            ...     ...\n",
            "285            49   81800\n",
            "125            49   78162\n",
            "282            51   57800\n",
            "194            53   90000\n",
            "131            57   76840\n",
            "\n",
            "[140 rows x 2 columns]\n",
            "++++++++++++++++++++++++++++++++++++++++++++++++++++++++++++++++++++++\n"
          ],
          "name": "stdout"
        }
      ]
    },
    {
      "cell_type": "markdown",
      "metadata": {
        "id": "PkCZxFlkIFvC"
      },
      "source": [
        "***Create some simple visualizations showing some simple statistics***"
      ]
    },
    {
      "cell_type": "code",
      "metadata": {
        "colab": {
          "base_uri": "https://localhost:8080/",
          "height": 383
        },
        "id": "Shv941x7EZt6",
        "outputId": "bd25ae8e-56ee-4b18-8f48-07a6ed37ce1d"
      },
      "source": [
        "print(df.hist())\n",
        "print()\n",
        "print(\"Histogram for all numerical columns: \")"
      ],
      "execution_count": 39,
      "outputs": [
        {
          "output_type": "stream",
          "text": [
            "[[<matplotlib.axes._subplots.AxesSubplot object at 0x7f991fc63cd0>\n",
            "  <matplotlib.axes._subplots.AxesSubplot object at 0x7f991eb34150>]\n",
            " [<matplotlib.axes._subplots.AxesSubplot object at 0x7f991eb63810>\n",
            "  <matplotlib.axes._subplots.AxesSubplot object at 0x7f991eb21f10>]]\n",
            "\n",
            "Histogram for all numerical columns: \n"
          ],
          "name": "stdout"
        },
        {
          "output_type": "display_data",
          "data": {
            "image/png": "[encoded data removed]",
            "text/plain": [
              "<Figure size 432x288 with 4 Axes>"
            ]
          },
          "metadata": {
            "tags": [],
            "needs_background": "light"
          }
        }
      ]
    },
    {
      "cell_type": "code",
      "metadata": {
        "colab": {
          "base_uri": "https://localhost:8080/",
          "height": 291
        },
        "id": "W02-P2cZ7Xql",
        "outputId": "c11a1796-9ebd-4f59-8132-70d755d87419"
      },
      "source": [
        "df[['yrsOfService','yrsSincePhD']].plot(kind='bar')"
      ],
      "execution_count": 40,
      "outputs": [
        {
          "output_type": "execute_result",
          "data": {
            "text/plain": [
              "<matplotlib.axes._subplots.AxesSubplot at 0x7f991ea9cd50>"
            ]
          },
          "metadata": {
            "tags": []
          },
          "execution_count": 40
        },
        {
          "output_type": "display_data",
          "data": {
            "image/png": "[encoded data removed]",
            "text/plain": [
              "<Figure size 432x288 with 1 Axes>"
            ]
          },
          "metadata": {
            "tags": [],
            "needs_background": "light"
          }
        }
      ]
    },
    {
      "cell_type": "code",
      "metadata": {
        "colab": {
          "base_uri": "https://localhost:8080/",
          "height": 547
        },
        "id": "dmm3T1U17t01",
        "outputId": "bec3ad14-5fe8-474b-d145-ab05c8d93d73"
      },
      "source": [
        "print(maleSalsDF.plot(kind='box'))\n",
        "print(femaleSalDF.plot(kind='box',color='red'))"
      ],
      "execution_count": 53,
      "outputs": [
        {
          "output_type": "stream",
          "text": [
            "AxesSubplot(0.125,0.125;0.775x0.755)\n",
            "AxesSubplot(0.125,0.125;0.775x0.755)\n"
          ],
          "name": "stdout"
        },
        {
          "output_type": "display_data",
          "data": {
            "image/png": "[encoded data removed]",
            "text/plain": [
              "<Figure size 432x288 with 1 Axes>"
            ]
          },
          "metadata": {
            "tags": [],
            "needs_background": "light"
          }
        },
        {
          "output_type": "display_data",
          "data": {
            "image/png": "[encoded data removed]",
            "text/plain": [
              "<Figure size 432x288 with 1 Axes>"
            ]
          },
          "metadata": {
            "tags": [],
            "needs_background": "light"
          }
        }
      ]
    },
    {
      "cell_type": "code",
      "metadata": {
        "colab": {
          "base_uri": "https://localhost:8080/",
          "height": 558
        },
        "id": "mSbDJxCcaV73",
        "outputId": "9b04614a-baca-49a9-e3fe-74af4adf992b"
      },
      "source": [
        "maleGenDF=df[df['sex']==\"Male\"]\n",
        "femGenDF = df[df['sex']==\"Female\"]\n",
        "\n",
        "maleGenDF.plot(kind='scatter', x = 'yrsOfService', y='salary')\n",
        "femGenDF.plot(kind='scatter', x = 'yrsOfService', y='salary', color = 'red')"
      ],
      "execution_count": 54,
      "outputs": [
        {
          "output_type": "execute_result",
          "data": {
            "text/plain": [
              "<matplotlib.axes._subplots.AxesSubplot at 0x7f99190ee610>"
            ]
          },
          "metadata": {
            "tags": []
          },
          "execution_count": 54
        },
        {
          "output_type": "display_data",
          "data": {
            "image/png": "[encoded data removed]",
            "text/plain": [
              "<Figure size 432x288 with 1 Axes>"
            ]
          },
          "metadata": {
            "tags": [],
            "needs_background": "light"
          }
        },
        {
          "output_type": "display_data",
          "data": {
            "image/png": "[encoded data removed]",
            "text/plain": [
              "<Figure size 432x288 with 1 Axes>"
            ]
          },
          "metadata": {
            "tags": [],
            "needs_background": "light"
          }
        }
      ]
    },
    {
      "cell_type": "code",
      "metadata": {
        "colab": {
          "base_uri": "https://localhost:8080/",
          "height": 313
        },
        "id": "YLKC09KH5Q86",
        "outputId": "4a7719de-ef13-4f31-81e2-e0379b125b70"
      },
      "source": [
        "print(salaryExperienceDF.plot(kind='scatter',y='salary',x='yrsOfService',color='green'))\n",
        "print(\"Scatter plot of yrsOfService vs Salary\")"
      ],
      "execution_count": 42,
      "outputs": [
        {
          "output_type": "stream",
          "text": [
            "AxesSubplot(0.125,0.125;0.775x0.755)\n",
            "Scatter plot of yrsOfService vs Salary\n"
          ],
          "name": "stdout"
        },
        {
          "output_type": "display_data",
          "data": {
            "image/png": "[encoded data removed]",
            "text/plain": [
              "<Figure size 432x288 with 1 Axes>"
            ]
          },
          "metadata": {
            "tags": [],
            "needs_background": "light"
          }
        }
      ]
    },
    {
      "cell_type": "markdown",
      "metadata": {
        "id": "gW2OdYmYYybT"
      },
      "source": [
        "**Conclusions**\n",
        "\n",
        "1. One interesting finding I discovered is the differences between male and female salaries. Based off the box-and-whisker plots, I discovered that males not only had a higher mean salary, but also that they had a higher ceiling in regards to their salary(peaking at 200,000). On the other hand, females not only earned less on average, they also had a lower ceiling . Yet as shown through my scatter plots distingushing males and females, the above conclusion may be affected by the fact that there were less female data points to consider and that the females in the study did not have as many years of experience as their male counterparts.\n",
        "\n",
        "2. As shown through the last scatterplot, their seems to be a slight positive correlation between years of service and and individual's salary."
      ]
    }
  ]
}