{
  "nbformat": 4,
  "nbformat_minor": 0,
  "metadata": {
    "colab": {
      "name": "Unit3_Assignment1.ipynb",
      "provenance": [],
      "authorship_tag": "ABX9TyNBuuX3lW1RpYVlZF3CMGu+",
      "include_colab_link": true
    },
    "kernelspec": {
      "name": "python3",
      "display_name": "Python 3"
    },
    "language_info": {
      "name": "python"
    }
  },
  "cells": [
    {
      "cell_type": "markdown",
      "metadata": {
        "id": "view-in-github",
        "colab_type": "text"
      },
      "source": [
        "<a href=\"https://colab.research.google.com/github/syeadn2001/data_analytics_2/blob/main/Unit3_Assignment1.ipynb\" target=\"_parent\"><img src=\"https://colab.research.google.com/assets/colab-badge.svg\" alt=\"Open In Colab\"/></a>"
      ]
    },
    {
      "cell_type": "markdown",
      "metadata": {
        "id": "JmxnMWLFHBFy"
      },
      "source": [
        "#Unit 3 - Advanced Python - NumPy - Assignment #1\n",
        "\n"
      ]
    },
    {
      "cell_type": "markdown",
      "metadata": {
        "id": "ewgLGo6AG2En"
      },
      "source": [
        "1. Environment Set Up"
      ]
    },
    {
      "cell_type": "code",
      "metadata": {
        "id": "nP1mnXUz9Ycz"
      },
      "source": [
        "import numpy as np\n",
        "\n",
        "#Dataset from summer Olympic London, year 2012\n",
        "np_olympic_country = np.array(['GBR','China','RUS','US','KOR','JPN','GER'])\n",
        "np_olympic_country_Gold = np.array([29,38,24,46,13,7,11])\n",
        "np_olympic_country_Silver = np.array([17,28,25,28,8,14,11])\n",
        "np_olympic_country_Bronze = np.array([19,22,32,29,7,17,14])"
      ],
      "execution_count": null,
      "outputs": []
    },
    {
      "cell_type": "markdown",
      "metadata": {
        "id": "9PuEp3R2G8Io"
      },
      "source": [
        "2. "
      ]
    },
    {
      "cell_type": "code",
      "metadata": {
        "colab": {
          "base_uri": "https://localhost:8080/"
        },
        "id": "GV-auWIyHGmi",
        "outputId": "3d052ec7-5b18-493f-871c-4734679727e8"
      },
      "source": [
        "mostGold = np.max(np_olympic_country_Gold)\n",
        "tupleOfMost = np.where(np_olympic_country_Gold==mostGold)\n",
        "countryGold = np_olympic_country[tupleOfMost]\n",
        "print(\"Most gold medals earned:\",mostGold)\n",
        "print(\"tuple of indices with most gold medals:\",tupleOfMost)\n",
        "print(\"The country with the most gold is:\", countryGold[0])"
      ],
      "execution_count": null,
      "outputs": [
        {
          "output_type": "stream",
          "text": [
            "Most gold medals earned: 46\n",
            "tuple of indices with most gold medals: (array([3]),)\n",
            "The country with the most gold is: US\n"
          ],
          "name": "stdout"
        }
      ]
    },
    {
      "cell_type": "markdown",
      "metadata": {
        "id": "4YRzBUeuHiOe"
      },
      "source": [
        "3."
      ]
    },
    {
      "cell_type": "code",
      "metadata": {
        "colab": {
          "base_uri": "https://localhost:8080/"
        },
        "id": "a0mawxJTHZc4",
        "outputId": "03acd031-cdfd-4a12-8b5d-758b047e8846"
      },
      "source": [
        "#creates an array corrsponding to the condition based off OG array\n",
        "isMoreThan20Array = np_olympic_country_Gold>20\n",
        "\n",
        "#pass in that boolean array to get wanted values\n",
        "country20 = np_olympic_country[isMoreThan20Array]\n",
        "\n",
        "print(\"The countries with more than 20 gold medals are:\")\n",
        "for el in country20:\n",
        "  print(el)"
      ],
      "execution_count": null,
      "outputs": [
        {
          "output_type": "stream",
          "text": [
            "The countries with more than 20 gold medals are:\n",
            "GBR\n",
            "China\n",
            "RUS\n",
            "US\n"
          ],
          "name": "stdout"
        }
      ]
    }
  ]
}
