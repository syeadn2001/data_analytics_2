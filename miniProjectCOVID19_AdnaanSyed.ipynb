{
  "nbformat": 4,
  "nbformat_minor": 0,
  "metadata": {
    "colab": {
      "name": "miniProject_AdnaanSyed.ipynb",
      "provenance": [],
      "collapsed_sections": [],
      "include_colab_link": true
    },
    "kernelspec": {
      "name": "python3",
      "display_name": "Python 3"
    }
  },
  "cells": [
    {
      "cell_type": "markdown",
      "metadata": {
        "id": "view-in-github",
        "colab_type": "text"
      },
      "source": [
        "<a href=\"https://colab.research.google.com/github/syeadn2001/data_analytics_2/blob/main/miniProjectCOVID19_AdnaanSyed.ipynb\" target=\"_parent\"><img src=\"https://colab.research.google.com/assets/colab-badge.svg\" alt=\"Open In Colab\"/></a>"
      ]
    },
    {
      "cell_type": "markdown",
      "metadata": {
        "id": "9jvXpX2bbIFF"
      },
      "source": [
        "# COVID 19 Data Analysis"
      ]
    },
    {
      "cell_type": "markdown",
      "metadata": {
        "id": "RSvGZmxBa_Gk"
      },
      "source": [
        "**Description:** This script will read the latest data from the New York Times' county-level COVID-19 database at https://github.com/nytimes/covid-19-data/blob/master/us-counties.csv, filter the data for a chosen county in a chosen state, calculate the daily count of new cases and new deaths, print the most recent 28 days' worth of data for the selected county, and save the county's data for all dates to a comma-separated value (.csv) file on your computer. The printed data can be copied and pasted directly into a spreadsheet for further analysis and visualization.\n",
        "\n",
        "**Note:** For information about the data, see https://github.com/nytimes/covid-19-data.\n",
        "\n",
        "**Note:** After you have run the script one time in a given Anaconda environment, you may reduce the script's execution time by adding a `#` in front of `pip install pandas`. For example, `#pip install pandas` instead of `pip install pandas`. The `#` will tell Python to skip the code without running it."
      ]
    },
    {
      "cell_type": "markdown",
      "metadata": {
        "id": "ji_HknaobZJh"
      },
      "source": [
        "# Task 1 : Environment Set up"
      ]
    },
    {
      "cell_type": "markdown",
      "metadata": {
        "id": "q2y0bY0XbhNZ"
      },
      "source": [
        "Import all required libraries that are needed for data analysis"
      ]
    },
    {
      "cell_type": "code",
      "metadata": {
        "id": "k2f9bX3aiTDP"
      },
      "source": [
        "import pandas as pd\n",
        "import numpy as np\n",
        "import matplotlib.pyplot as plt\n",
        "from matplotlib import style"
      ],
      "execution_count": 1,
      "outputs": []
    },
    {
      "cell_type": "markdown",
      "metadata": {
        "id": "vgt8s61dbueM"
      },
      "source": [
        "# Task 2 :  Data Collection"
      ]
    },
    {
      "cell_type": "markdown",
      "metadata": {
        "id": "CEc5pqrkbxcX"
      },
      "source": [
        "Use nytimes github repository as a data source to collect the covid 19 data in real time and ingest it into colab notebook for data anlysis purpose"
      ]
    },
    {
      "cell_type": "code",
      "metadata": {
        "id": "vgw9nO9Hm_SB"
      },
      "source": [
        "df = pd.read_csv('https://raw.githubusercontent.com/nytimes/covid-19-data/master/us-states.csv')"
      ],
      "execution_count": 2,
      "outputs": []
    },
    {
      "cell_type": "code",
      "metadata": {
        "id": "FEG9n2sI0Yxu",
        "colab": {
          "base_uri": "https://localhost:8080/",
          "height": 204
        },
        "outputId": "8b8d6352-e017-4299-b658-c814aa8fa27b"
      },
      "source": [
        "df.head()"
      ],
      "execution_count": 3,
      "outputs": [
        {
          "output_type": "execute_result",
          "data": {
            "text/html": [
              "<div>\n",
              "<style scoped>\n",
              "    .dataframe tbody tr th:only-of-type {\n",
              "        vertical-align: middle;\n",
              "    }\n",
              "\n",
              "    .dataframe tbody tr th {\n",
              "        vertical-align: top;\n",
              "    }\n",
              "\n",
              "    .dataframe thead th {\n",
              "        text-align: right;\n",
              "    }\n",
              "</style>\n",
              "<table border=\"1\" class=\"dataframe\">\n",
              "  <thead>\n",
              "    <tr style=\"text-align: right;\">\n",
              "      <th></th>\n",
              "      <th>date</th>\n",
              "      <th>state</th>\n",
              "      <th>fips</th>\n",
              "      <th>cases</th>\n",
              "      <th>deaths</th>\n",
              "    </tr>\n",
              "  </thead>\n",
              "  <tbody>\n",
              "    <tr>\n",
              "      <th>0</th>\n",
              "      <td>2020-01-21</td>\n",
              "      <td>Washington</td>\n",
              "      <td>53</td>\n",
              "      <td>1</td>\n",
              "      <td>0</td>\n",
              "    </tr>\n",
              "    <tr>\n",
              "      <th>1</th>\n",
              "      <td>2020-01-22</td>\n",
              "      <td>Washington</td>\n",
              "      <td>53</td>\n",
              "      <td>1</td>\n",
              "      <td>0</td>\n",
              "    </tr>\n",
              "    <tr>\n",
              "      <th>2</th>\n",
              "      <td>2020-01-23</td>\n",
              "      <td>Washington</td>\n",
              "      <td>53</td>\n",
              "      <td>1</td>\n",
              "      <td>0</td>\n",
              "    </tr>\n",
              "    <tr>\n",
              "      <th>3</th>\n",
              "      <td>2020-01-24</td>\n",
              "      <td>Illinois</td>\n",
              "      <td>17</td>\n",
              "      <td>1</td>\n",
              "      <td>0</td>\n",
              "    </tr>\n",
              "    <tr>\n",
              "      <th>4</th>\n",
              "      <td>2020-01-24</td>\n",
              "      <td>Washington</td>\n",
              "      <td>53</td>\n",
              "      <td>1</td>\n",
              "      <td>0</td>\n",
              "    </tr>\n",
              "  </tbody>\n",
              "</table>\n",
              "</div>"
            ],
            "text/plain": [
              "         date       state  fips  cases  deaths\n",
              "0  2020-01-21  Washington    53      1       0\n",
              "1  2020-01-22  Washington    53      1       0\n",
              "2  2020-01-23  Washington    53      1       0\n",
              "3  2020-01-24    Illinois    17      1       0\n",
              "4  2020-01-24  Washington    53      1       0"
            ]
          },
          "metadata": {
            "tags": []
          },
          "execution_count": 3
        }
      ]
    },
    {
      "cell_type": "code",
      "metadata": {
        "id": "ap0owuu30bLe",
        "colab": {
          "base_uri": "https://localhost:8080/"
        },
        "outputId": "0edd2ff6-0cbd-4266-d718-a281ebae2de7"
      },
      "source": [
        "df.shape"
      ],
      "execution_count": 4,
      "outputs": [
        {
          "output_type": "execute_result",
          "data": {
            "text/plain": [
              "(28944, 5)"
            ]
          },
          "metadata": {
            "tags": []
          },
          "execution_count": 4
        }
      ]
    },
    {
      "cell_type": "code",
      "metadata": {
        "id": "zZdaTiUk0fqE",
        "colab": {
          "base_uri": "https://localhost:8080/"
        },
        "outputId": "38158fbe-5ade-4e68-8663-b49b201a52c2"
      },
      "source": [
        "df.columns"
      ],
      "execution_count": 5,
      "outputs": [
        {
          "output_type": "execute_result",
          "data": {
            "text/plain": [
              "Index(['date', 'state', 'fips', 'cases', 'deaths'], dtype='object')"
            ]
          },
          "metadata": {
            "tags": []
          },
          "execution_count": 5
        }
      ]
    },
    {
      "cell_type": "markdown",
      "metadata": {
        "id": "dXToiyPccf4h"
      },
      "source": [
        "# Task 3 : Data Wrangling and EDA (Exploratory Data Analysis)"
      ]
    },
    {
      "cell_type": "markdown",
      "metadata": {
        "id": "XrywUhma1LD6"
      },
      "source": [
        "Analyzing New York state data for Covid 19"
      ]
    },
    {
      "cell_type": "code",
      "metadata": {
        "id": "-IXvRlig1Qjq"
      },
      "source": [
        "ny_df = df[df['state']=='New York']"
      ],
      "execution_count": 6,
      "outputs": []
    },
    {
      "cell_type": "code",
      "metadata": {
        "id": "vAPsO4Yq1yAj",
        "colab": {
          "base_uri": "https://localhost:8080/",
          "height": 204
        },
        "outputId": "1629884b-52ba-4fdf-8d44-1a97afeb6257"
      },
      "source": [
        "ny_df.head()"
      ],
      "execution_count": 7,
      "outputs": [
        {
          "output_type": "execute_result",
          "data": {
            "text/html": [
              "<div>\n",
              "<style scoped>\n",
              "    .dataframe tbody tr th:only-of-type {\n",
              "        vertical-align: middle;\n",
              "    }\n",
              "\n",
              "    .dataframe tbody tr th {\n",
              "        vertical-align: top;\n",
              "    }\n",
              "\n",
              "    .dataframe thead th {\n",
              "        text-align: right;\n",
              "    }\n",
              "</style>\n",
              "<table border=\"1\" class=\"dataframe\">\n",
              "  <thead>\n",
              "    <tr style=\"text-align: right;\">\n",
              "      <th></th>\n",
              "      <th>date</th>\n",
              "      <th>state</th>\n",
              "      <th>fips</th>\n",
              "      <th>cases</th>\n",
              "      <th>deaths</th>\n",
              "    </tr>\n",
              "  </thead>\n",
              "  <tbody>\n",
              "    <tr>\n",
              "      <th>246</th>\n",
              "      <td>2020-03-01</td>\n",
              "      <td>New York</td>\n",
              "      <td>36</td>\n",
              "      <td>1</td>\n",
              "      <td>0</td>\n",
              "    </tr>\n",
              "    <tr>\n",
              "      <th>261</th>\n",
              "      <td>2020-03-02</td>\n",
              "      <td>New York</td>\n",
              "      <td>36</td>\n",
              "      <td>1</td>\n",
              "      <td>0</td>\n",
              "    </tr>\n",
              "    <tr>\n",
              "      <th>276</th>\n",
              "      <td>2020-03-03</td>\n",
              "      <td>New York</td>\n",
              "      <td>36</td>\n",
              "      <td>2</td>\n",
              "      <td>0</td>\n",
              "    </tr>\n",
              "    <tr>\n",
              "      <th>293</th>\n",
              "      <td>2020-03-04</td>\n",
              "      <td>New York</td>\n",
              "      <td>36</td>\n",
              "      <td>11</td>\n",
              "      <td>0</td>\n",
              "    </tr>\n",
              "    <tr>\n",
              "      <th>313</th>\n",
              "      <td>2020-03-05</td>\n",
              "      <td>New York</td>\n",
              "      <td>36</td>\n",
              "      <td>22</td>\n",
              "      <td>0</td>\n",
              "    </tr>\n",
              "  </tbody>\n",
              "</table>\n",
              "</div>"
            ],
            "text/plain": [
              "           date     state  fips  cases  deaths\n",
              "246  2020-03-01  New York    36      1       0\n",
              "261  2020-03-02  New York    36      1       0\n",
              "276  2020-03-03  New York    36      2       0\n",
              "293  2020-03-04  New York    36     11       0\n",
              "313  2020-03-05  New York    36     22       0"
            ]
          },
          "metadata": {
            "tags": []
          },
          "execution_count": 7
        }
      ]
    },
    {
      "cell_type": "code",
      "metadata": {
        "id": "XNuZqUlI1096",
        "colab": {
          "base_uri": "https://localhost:8080/"
        },
        "outputId": "a3f866a9-1b75-4dc4-ba3b-1b2f7217316a"
      },
      "source": [
        "ny_df.shape"
      ],
      "execution_count": 8,
      "outputs": [
        {
          "output_type": "execute_result",
          "data": {
            "text/plain": [
              "(528, 5)"
            ]
          },
          "metadata": {
            "tags": []
          },
          "execution_count": 8
        }
      ]
    },
    {
      "cell_type": "code",
      "metadata": {
        "id": "z7sGUFdO2CAo",
        "colab": {
          "base_uri": "https://localhost:8080/",
          "height": 204
        },
        "outputId": "337891e2-452f-4eb0-b955-004554e0fc9d"
      },
      "source": [
        "ny_df.tail()"
      ],
      "execution_count": 9,
      "outputs": [
        {
          "output_type": "execute_result",
          "data": {
            "text/html": [
              "<div>\n",
              "<style scoped>\n",
              "    .dataframe tbody tr th:only-of-type {\n",
              "        vertical-align: middle;\n",
              "    }\n",
              "\n",
              "    .dataframe tbody tr th {\n",
              "        vertical-align: top;\n",
              "    }\n",
              "\n",
              "    .dataframe thead th {\n",
              "        text-align: right;\n",
              "    }\n",
              "</style>\n",
              "<table border=\"1\" class=\"dataframe\">\n",
              "  <thead>\n",
              "    <tr style=\"text-align: right;\">\n",
              "      <th></th>\n",
              "      <th>date</th>\n",
              "      <th>state</th>\n",
              "      <th>fips</th>\n",
              "      <th>cases</th>\n",
              "      <th>deaths</th>\n",
              "    </tr>\n",
              "  </thead>\n",
              "  <tbody>\n",
              "    <tr>\n",
              "      <th>28702</th>\n",
              "      <td>2021-08-06</td>\n",
              "      <td>New York</td>\n",
              "      <td>36</td>\n",
              "      <td>2166341</td>\n",
              "      <td>53318</td>\n",
              "    </tr>\n",
              "    <tr>\n",
              "      <th>28757</th>\n",
              "      <td>2021-08-07</td>\n",
              "      <td>New York</td>\n",
              "      <td>36</td>\n",
              "      <td>2170878</td>\n",
              "      <td>53331</td>\n",
              "    </tr>\n",
              "    <tr>\n",
              "      <th>28812</th>\n",
              "      <td>2021-08-08</td>\n",
              "      <td>New York</td>\n",
              "      <td>36</td>\n",
              "      <td>2174515</td>\n",
              "      <td>53346</td>\n",
              "    </tr>\n",
              "    <tr>\n",
              "      <th>28867</th>\n",
              "      <td>2021-08-09</td>\n",
              "      <td>New York</td>\n",
              "      <td>36</td>\n",
              "      <td>2176196</td>\n",
              "      <td>53352</td>\n",
              "    </tr>\n",
              "    <tr>\n",
              "      <th>28922</th>\n",
              "      <td>2021-08-10</td>\n",
              "      <td>New York</td>\n",
              "      <td>36</td>\n",
              "      <td>2177918</td>\n",
              "      <td>53360</td>\n",
              "    </tr>\n",
              "  </tbody>\n",
              "</table>\n",
              "</div>"
            ],
            "text/plain": [
              "             date     state  fips    cases  deaths\n",
              "28702  2021-08-06  New York    36  2166341   53318\n",
              "28757  2021-08-07  New York    36  2170878   53331\n",
              "28812  2021-08-08  New York    36  2174515   53346\n",
              "28867  2021-08-09  New York    36  2176196   53352\n",
              "28922  2021-08-10  New York    36  2177918   53360"
            ]
          },
          "metadata": {
            "tags": []
          },
          "execution_count": 9
        }
      ]
    },
    {
      "cell_type": "code",
      "metadata": {
        "id": "FQxfk_yn2KIW",
        "colab": {
          "base_uri": "https://localhost:8080/",
          "height": 204
        },
        "outputId": "dbfd1fd4-d741-4e56-a97d-7f1ad2e69953"
      },
      "source": [
        "#first death in NY\n",
        "first_ny_death = ny_df[ny_df['deaths']>0] #you want to get a table for when death column values does not equate 0 \n",
        "first_ny_death.head()                     #the head of this table would start with the first deaths"
      ],
      "execution_count": 10,
      "outputs": [
        {
          "output_type": "execute_result",
          "data": {
            "text/html": [
              "<div>\n",
              "<style scoped>\n",
              "    .dataframe tbody tr th:only-of-type {\n",
              "        vertical-align: middle;\n",
              "    }\n",
              "\n",
              "    .dataframe tbody tr th {\n",
              "        vertical-align: top;\n",
              "    }\n",
              "\n",
              "    .dataframe thead th {\n",
              "        text-align: right;\n",
              "    }\n",
              "</style>\n",
              "<table border=\"1\" class=\"dataframe\">\n",
              "  <thead>\n",
              "    <tr style=\"text-align: right;\">\n",
              "      <th></th>\n",
              "      <th>date</th>\n",
              "      <th>state</th>\n",
              "      <th>fips</th>\n",
              "      <th>cases</th>\n",
              "      <th>deaths</th>\n",
              "    </tr>\n",
              "  </thead>\n",
              "  <tbody>\n",
              "    <tr>\n",
              "      <th>669</th>\n",
              "      <td>2020-03-14</td>\n",
              "      <td>New York</td>\n",
              "      <td>36</td>\n",
              "      <td>610</td>\n",
              "      <td>2</td>\n",
              "    </tr>\n",
              "    <tr>\n",
              "      <th>722</th>\n",
              "      <td>2020-03-15</td>\n",
              "      <td>New York</td>\n",
              "      <td>36</td>\n",
              "      <td>732</td>\n",
              "      <td>6</td>\n",
              "    </tr>\n",
              "    <tr>\n",
              "      <th>775</th>\n",
              "      <td>2020-03-16</td>\n",
              "      <td>New York</td>\n",
              "      <td>36</td>\n",
              "      <td>950</td>\n",
              "      <td>10</td>\n",
              "    </tr>\n",
              "    <tr>\n",
              "      <th>828</th>\n",
              "      <td>2020-03-17</td>\n",
              "      <td>New York</td>\n",
              "      <td>36</td>\n",
              "      <td>1375</td>\n",
              "      <td>18</td>\n",
              "    </tr>\n",
              "    <tr>\n",
              "      <th>882</th>\n",
              "      <td>2020-03-18</td>\n",
              "      <td>New York</td>\n",
              "      <td>36</td>\n",
              "      <td>2387</td>\n",
              "      <td>32</td>\n",
              "    </tr>\n",
              "  </tbody>\n",
              "</table>\n",
              "</div>"
            ],
            "text/plain": [
              "           date     state  fips  cases  deaths\n",
              "669  2020-03-14  New York    36    610       2\n",
              "722  2020-03-15  New York    36    732       6\n",
              "775  2020-03-16  New York    36    950      10\n",
              "828  2020-03-17  New York    36   1375      18\n",
              "882  2020-03-18  New York    36   2387      32"
            ]
          },
          "metadata": {
            "tags": []
          },
          "execution_count": 10
        }
      ]
    },
    {
      "cell_type": "code",
      "metadata": {
        "id": "dQ-Qbk0e3vUj",
        "colab": {
          "base_uri": "https://localhost:8080/"
        },
        "outputId": "551aa1eb-c0d1-4608-fd20-a3ed6142cf32"
      },
      "source": [
        "#total number of cases\n",
        "ny_df['cases'].max()"
      ],
      "execution_count": 11,
      "outputs": [
        {
          "output_type": "execute_result",
          "data": {
            "text/plain": [
              "2177918"
            ]
          },
          "metadata": {
            "tags": []
          },
          "execution_count": 11
        }
      ]
    },
    {
      "cell_type": "code",
      "metadata": {
        "id": "TNYs0GNm4K5O",
        "colab": {
          "base_uri": "https://localhost:8080/"
        },
        "outputId": "b5426712-62ca-45b2-e283-89e8232ee5f9"
      },
      "source": [
        "# not a correct way of calculating total count bcoz data is cumulative\n",
        "ny_df['cases'].sum()"
      ],
      "execution_count": 12,
      "outputs": [
        {
          "output_type": "execute_result",
          "data": {
            "text/plain": [
              "536128762"
            ]
          },
          "metadata": {
            "tags": []
          },
          "execution_count": 12
        }
      ]
    },
    {
      "cell_type": "markdown",
      "metadata": {
        "id": "vUbZP5tccvEp"
      },
      "source": [
        "Finding new covid 19 cases on daily basis (new cases added everyday)"
      ]
    },
    {
      "cell_type": "code",
      "metadata": {
        "id": "g-isLW6s4XaJ"
      },
      "source": [
        "#new cases for NY\n",
        "# type(ny_df['cases'])\n",
        "\n",
        "newcase = []\n",
        "previous_case = 0\n",
        "#.iterrrows returns the index & row of the dataframe\n",
        "for index, row in ny_df.iterrows():\n",
        "  current_case = row['cases']\n",
        "  newcase_count = current_case - previous_case\n",
        "  previuos_case = current_case\n",
        "  newcase.append(newcase_count)\n",
        "  print(newcase_count)"
      ],
      "execution_count": null,
      "outputs": []
    },
    {
      "cell_type": "markdown",
      "metadata": {
        "id": "aoz3o_GpB3fE"
      },
      "source": [
        "Finding new covid 19 deaths on daily basis (new cases added everyday)"
      ]
    },
    {
      "cell_type": "code",
      "metadata": {
        "colab": {
          "base_uri": "https://localhost:8080/"
        },
        "id": "I3E7_mJAB20y",
        "outputId": "e81debb0-8cf2-4229-a9db-abe11f450b8c"
      },
      "source": [
        "newdeaths = []\n",
        "prevDeaths = 0\n",
        "i = 0\n",
        "for index, row in ny_df.iterrows():\n",
        "  current_deaths = row['deaths']\n",
        "  newdeaths_count = current_deaths - prevDeaths\n",
        "  prevDeaths = current_deaths\n",
        "  newdeaths.append(newdeaths_count)\n",
        "  print(str(i) + \" \"+ str(newdeaths_count))\n",
        "  i+=1\n",
        "  \n",
        "  "
      ],
      "execution_count": 39,
      "outputs": [
        {
          "output_type": "stream",
          "text": [
            "0 0\n",
            "1 0\n",
            "2 0\n",
            "3 0\n",
            "4 0\n",
            "5 0\n",
            "6 0\n",
            "7 0\n",
            "8 0\n",
            "9 0\n",
            "10 0\n",
            "11 0\n",
            "12 0\n",
            "13 2\n",
            "14 4\n",
            "15 4\n",
            "16 8\n",
            "17 14\n",
            "18 7\n",
            "19 29\n",
            "20 27\n",
            "21 47\n",
            "22 41\n",
            "23 81\n",
            "24 117\n",
            "25 121\n",
            "26 143\n",
            "27 290\n",
            "28 245\n",
            "29 332\n",
            "30 417\n",
            "31 486\n",
            "32 548\n",
            "33 753\n",
            "34 819\n",
            "35 800\n",
            "36 814\n",
            "37 1036\n",
            "38 953\n",
            "39 1028\n",
            "40 996\n",
            "41 997\n",
            "42 957\n",
            "43 882\n",
            "44 1003\n",
            "45 936\n",
            "46 732\n",
            "47 804\n",
            "48 668\n",
            "49 652\n",
            "50 619\n",
            "51 628\n",
            "52 607\n",
            "53 565\n",
            "54 547\n",
            "55 567\n",
            "56 478\n",
            "57 463\n",
            "58 510\n",
            "59 510\n",
            "60 329\n",
            "61 225\n",
            "62 194\n",
            "63 541\n",
            "64 212\n",
            "65 240\n",
            "66 928\n",
            "67 250\n",
            "68 152\n",
            "69 226\n",
            "70 214\n",
            "71 205\n",
            "72 279\n",
            "73 166\n",
            "74 169\n",
            "75 138\n",
            "76 198\n",
            "77 215\n",
            "78 134\n",
            "79 135\n",
            "80 103\n",
            "81 123\n",
            "82 139\n",
            "83 98\n",
            "84 146\n",
            "85 92\n",
            "86 103\n",
            "87 98\n",
            "88 99\n",
            "89 97\n",
            "90 77\n",
            "91 87\n",
            "92 67\n",
            "93 81\n",
            "94 71\n",
            "95 93\n",
            "96 55\n",
            "97 57\n",
            "98 60\n",
            "99 56\n",
            "100 70\n",
            "101 67\n",
            "102 55\n",
            "103 80\n",
            "104 54\n",
            "105 40\n",
            "106 40\n",
            "107 38\n",
            "108 39\n",
            "109 45\n",
            "110 49\n",
            "111 23\n",
            "112 45\n",
            "113 50\n",
            "114 36\n",
            "115 31\n",
            "116 28\n",
            "117 46\n",
            "118 30\n",
            "119 32\n",
            "120 6\n",
            "121 633\n",
            "122 15\n",
            "123 23\n",
            "124 22\n",
            "125 24\n",
            "126 35\n",
            "127 16\n",
            "128 23\n",
            "129 11\n",
            "130 34\n",
            "131 25\n",
            "132 15\n",
            "133 10\n",
            "134 46\n",
            "135 17\n",
            "136 23\n",
            "137 18\n",
            "138 14\n",
            "139 20\n",
            "140 20\n",
            "141 16\n",
            "142 15\n",
            "143 10\n",
            "144 42\n",
            "145 8\n",
            "146 17\n",
            "147 10\n",
            "148 17\n",
            "149 11\n",
            "150 9\n",
            "151 20\n",
            "152 10\n",
            "153 18\n",
            "154 11\n",
            "155 12\n",
            "156 9\n",
            "157 9\n",
            "158 -102\n",
            "159 7\n",
            "160 9\n",
            "161 9\n",
            "162 7\n",
            "163 11\n",
            "164 12\n",
            "165 15\n",
            "166 8\n",
            "167 7\n",
            "168 10\n",
            "169 11\n",
            "170 11\n",
            "171 5\n",
            "172 0\n",
            "173 5\n",
            "174 8\n",
            "175 18\n",
            "176 7\n",
            "177 6\n",
            "178 4\n",
            "179 8\n",
            "180 8\n",
            "181 7\n",
            "182 12\n",
            "183 7\n",
            "184 10\n",
            "185 8\n",
            "186 8\n",
            "187 6\n",
            "188 6\n",
            "189 6\n",
            "190 15\n",
            "191 12\n",
            "192 -1\n",
            "193 7\n",
            "194 1\n",
            "195 6\n",
            "196 4\n",
            "197 10\n",
            "198 16\n",
            "199 7\n",
            "200 7\n",
            "201 13\n",
            "202 -3\n",
            "203 7\n",
            "204 5\n",
            "205 -1\n",
            "206 1\n",
            "207 5\n",
            "208 12\n",
            "209 5\n",
            "210 9\n",
            "211 15\n",
            "212 6\n",
            "213 14\n",
            "214 11\n",
            "215 21\n",
            "216 5\n",
            "217 19\n",
            "218 14\n",
            "219 9\n",
            "220 14\n",
            "221 9\n",
            "222 8\n",
            "223 8\n",
            "224 4\n",
            "225 17\n",
            "226 9\n",
            "227 11\n",
            "228 19\n",
            "229 9\n",
            "230 15\n",
            "231 13\n",
            "232 18\n",
            "233 8\n",
            "234 7\n",
            "235 17\n",
            "236 16\n",
            "237 11\n",
            "238 10\n",
            "239 14\n",
            "240 19\n",
            "241 15\n",
            "242 21\n",
            "243 15\n",
            "244 9\n",
            "245 22\n",
            "246 13\n",
            "247 11\n",
            "248 24\n",
            "249 25\n",
            "250 20\n",
            "251 20\n",
            "252 27\n",
            "253 29\n",
            "254 30\n",
            "255 25\n",
            "256 26\n",
            "257 28\n",
            "258 25\n",
            "259 31\n",
            "260 32\n",
            "261 36\n",
            "262 31\n",
            "263 41\n",
            "264 48\n",
            "265 41\n",
            "266 30\n",
            "267 37\n",
            "268 43\n",
            "269 43\n",
            "270 69\n",
            "271 45\n",
            "272 45\n",
            "273 52\n",
            "274 49\n",
            "275 72\n",
            "276 64\n",
            "277 60\n",
            "278 63\n",
            "279 79\n",
            "280 64\n",
            "281 85\n",
            "282 86\n",
            "283 76\n",
            "284 85\n",
            "285 99\n",
            "286 91\n",
            "287 124\n",
            "288 90\n",
            "289 137\n",
            "290 97\n",
            "291 125\n",
            "292 128\n",
            "293 122\n",
            "294 120\n",
            "295 130\n",
            "296 153\n",
            "297 154\n",
            "298 150\n",
            "299 135\n",
            "300 131\n",
            "301 130\n",
            "302 118\n",
            "303 138\n",
            "304 156\n",
            "305 145\n",
            "306 176\n",
            "307 121\n",
            "308 147\n",
            "309 166\n",
            "310 148\n",
            "311 171\n",
            "312 197\n",
            "313 163\n",
            "314 195\n",
            "315 167\n",
            "316 196\n",
            "317 184\n",
            "318 172\n",
            "319 237\n",
            "320 206\n",
            "321 173\n",
            "322 194\n",
            "323 183\n",
            "324 180\n",
            "325 215\n",
            "326 200\n",
            "327 182\n",
            "328 164\n",
            "329 195\n",
            "330 201\n",
            "331 183\n",
            "332 161\n",
            "333 205\n",
            "334 186\n",
            "335 171\n",
            "336 182\n",
            "337 176\n",
            "338 170\n",
            "339 163\n",
            "340 155\n",
            "341 170\n",
            "342 198\n",
            "343 177\n",
            "344 125\n",
            "345 171\n",
            "346 168\n",
            "347 141\n",
            "348 146\n",
            "349 157\n",
            "350 136\n",
            "351 121\n",
            "352 131\n",
            "353 124\n",
            "354 150\n",
            "355 162\n",
            "356 114\n",
            "357 113\n",
            "358 108\n",
            "359 108\n",
            "360 118\n",
            "361 110\n",
            "362 124\n",
            "363 111\n",
            "364 118\n",
            "365 104\n",
            "366 98\n",
            "367 119\n",
            "368 101\n",
            "369 107\n",
            "370 95\n",
            "371 90\n",
            "372 64\n",
            "373 79\n",
            "374 92\n",
            "375 116\n",
            "376 69\n",
            "377 93\n",
            "378 105\n",
            "379 62\n",
            "380 87\n",
            "381 62\n",
            "382 87\n",
            "383 75\n",
            "384 68\n",
            "385 26\n",
            "386 17\n",
            "387 18\n",
            "388 254\n",
            "389 74\n",
            "390 58\n",
            "391 83\n",
            "392 91\n",
            "393 111\n",
            "394 48\n",
            "395 94\n",
            "396 82\n",
            "397 74\n",
            "398 96\n",
            "399 82\n",
            "400 71\n",
            "401 44\n",
            "402 93\n",
            "403 56\n",
            "404 77\n",
            "405 62\n",
            "406 83\n",
            "407 83\n",
            "408 52\n",
            "409 94\n",
            "410 73\n",
            "411 53\n",
            "412 69\n",
            "413 43\n",
            "414 45\n",
            "415 61\n",
            "416 45\n",
            "417 71\n",
            "418 62\n",
            "419 58\n",
            "420 52\n",
            "421 40\n",
            "422 76\n",
            "423 21\n",
            "424 69\n",
            "425 51\n",
            "426 63\n",
            "427 39\n",
            "428 59\n",
            "429 60\n",
            "430 56\n",
            "431 33\n",
            "432 39\n",
            "433 41\n",
            "434 37\n",
            "435 37\n",
            "436 42\n",
            "437 57\n",
            "438 41\n",
            "439 34\n",
            "440 11\n",
            "441 40\n",
            "442 32\n",
            "443 31\n",
            "444 25\n",
            "445 26\n",
            "446 24\n",
            "447 17\n",
            "448 19\n",
            "449 30\n",
            "450 17\n",
            "451 26\n",
            "452 21\n",
            "453 25\n",
            "454 14\n",
            "455 16\n",
            "456 18\n",
            "457 26\n",
            "458 9\n",
            "459 18\n",
            "460 29\n",
            "461 12\n",
            "462 33\n",
            "463 10\n",
            "464 11\n",
            "465 8\n",
            "466 13\n",
            "467 15\n",
            "468 16\n",
            "469 10\n",
            "470 9\n",
            "471 16\n",
            "472 2\n",
            "473 14\n",
            "474 8\n",
            "475 7\n",
            "476 2\n",
            "477 8\n",
            "478 14\n",
            "479 8\n",
            "480 -4\n",
            "481 8\n",
            "482 6\n",
            "483 15\n",
            "484 8\n",
            "485 4\n",
            "486 2\n",
            "487 12\n",
            "488 2\n",
            "489 0\n",
            "490 9\n",
            "491 4\n",
            "492 5\n",
            "493 7\n",
            "494 4\n",
            "495 4\n",
            "496 7\n",
            "497 2\n",
            "498 2\n",
            "499 6\n",
            "500 11\n",
            "501 5\n",
            "502 1\n",
            "503 5\n",
            "504 10\n",
            "505 4\n",
            "506 5\n",
            "507 7\n",
            "508 7\n",
            "509 2\n",
            "510 3\n",
            "511 9\n",
            "512 7\n",
            "513 1\n",
            "514 12\n",
            "515 2\n",
            "516 7\n",
            "517 9\n",
            "518 8\n",
            "519 7\n",
            "520 13\n",
            "521 7\n",
            "522 14\n",
            "523 3\n",
            "524 13\n",
            "525 15\n",
            "526 6\n",
            "527 8\n"
          ],
          "name": "stdout"
        }
      ]
    },
    {
      "cell_type": "code",
      "metadata": {
        "id": "yKryzOu25uDi",
        "colab": {
          "base_uri": "https://localhost:8080/"
        },
        "outputId": "7b99c465-e397-4dd5-9ff8-56eb5ab83327"
      },
      "source": [
        "ny_df['new_cases'] = newcase\n",
        "ny_df['new_deaths'] = newdeaths"
      ],
      "execution_count": 42,
      "outputs": [
        {
          "output_type": "stream",
          "text": [
            "/usr/local/lib/python3.7/dist-packages/ipykernel_launcher.py:1: SettingWithCopyWarning: \n",
            "A value is trying to be set on a copy of a slice from a DataFrame.\n",
            "Try using .loc[row_indexer,col_indexer] = value instead\n",
            "\n",
            "See the caveats in the documentation: https://pandas.pydata.org/pandas-docs/stable/user_guide/indexing.html#returning-a-view-versus-a-copy\n",
            "  \"\"\"Entry point for launching an IPython kernel.\n",
            "/usr/local/lib/python3.7/dist-packages/ipykernel_launcher.py:2: SettingWithCopyWarning: \n",
            "A value is trying to be set on a copy of a slice from a DataFrame.\n",
            "Try using .loc[row_indexer,col_indexer] = value instead\n",
            "\n",
            "See the caveats in the documentation: https://pandas.pydata.org/pandas-docs/stable/user_guide/indexing.html#returning-a-view-versus-a-copy\n",
            "  \n"
          ],
          "name": "stderr"
        }
      ]
    },
    {
      "cell_type": "code",
      "metadata": {
        "id": "xSjQW7Gm8_cO",
        "colab": {
          "base_uri": "https://localhost:8080/",
          "height": 359
        },
        "outputId": "252e2b8e-6277-4c79-f941-d5d01fc1db38"
      },
      "source": [
        "ny_df.head(10)"
      ],
      "execution_count": 43,
      "outputs": [
        {
          "output_type": "execute_result",
          "data": {
            "text/html": [
              "<div>\n",
              "<style scoped>\n",
              "    .dataframe tbody tr th:only-of-type {\n",
              "        vertical-align: middle;\n",
              "    }\n",
              "\n",
              "    .dataframe tbody tr th {\n",
              "        vertical-align: top;\n",
              "    }\n",
              "\n",
              "    .dataframe thead th {\n",
              "        text-align: right;\n",
              "    }\n",
              "</style>\n",
              "<table border=\"1\" class=\"dataframe\">\n",
              "  <thead>\n",
              "    <tr style=\"text-align: right;\">\n",
              "      <th></th>\n",
              "      <th>date</th>\n",
              "      <th>state</th>\n",
              "      <th>fips</th>\n",
              "      <th>cases</th>\n",
              "      <th>deaths</th>\n",
              "      <th>new_cases</th>\n",
              "      <th>new_deaths</th>\n",
              "    </tr>\n",
              "  </thead>\n",
              "  <tbody>\n",
              "    <tr>\n",
              "      <th>246</th>\n",
              "      <td>2020-03-01</td>\n",
              "      <td>New York</td>\n",
              "      <td>36</td>\n",
              "      <td>1</td>\n",
              "      <td>0</td>\n",
              "      <td>1</td>\n",
              "      <td>0</td>\n",
              "    </tr>\n",
              "    <tr>\n",
              "      <th>261</th>\n",
              "      <td>2020-03-02</td>\n",
              "      <td>New York</td>\n",
              "      <td>36</td>\n",
              "      <td>1</td>\n",
              "      <td>0</td>\n",
              "      <td>0</td>\n",
              "      <td>0</td>\n",
              "    </tr>\n",
              "    <tr>\n",
              "      <th>276</th>\n",
              "      <td>2020-03-03</td>\n",
              "      <td>New York</td>\n",
              "      <td>36</td>\n",
              "      <td>2</td>\n",
              "      <td>0</td>\n",
              "      <td>1</td>\n",
              "      <td>0</td>\n",
              "    </tr>\n",
              "    <tr>\n",
              "      <th>293</th>\n",
              "      <td>2020-03-04</td>\n",
              "      <td>New York</td>\n",
              "      <td>36</td>\n",
              "      <td>11</td>\n",
              "      <td>0</td>\n",
              "      <td>9</td>\n",
              "      <td>0</td>\n",
              "    </tr>\n",
              "    <tr>\n",
              "      <th>313</th>\n",
              "      <td>2020-03-05</td>\n",
              "      <td>New York</td>\n",
              "      <td>36</td>\n",
              "      <td>22</td>\n",
              "      <td>0</td>\n",
              "      <td>11</td>\n",
              "      <td>0</td>\n",
              "    </tr>\n",
              "    <tr>\n",
              "      <th>338</th>\n",
              "      <td>2020-03-06</td>\n",
              "      <td>New York</td>\n",
              "      <td>36</td>\n",
              "      <td>44</td>\n",
              "      <td>0</td>\n",
              "      <td>22</td>\n",
              "      <td>0</td>\n",
              "    </tr>\n",
              "    <tr>\n",
              "      <th>369</th>\n",
              "      <td>2020-03-07</td>\n",
              "      <td>New York</td>\n",
              "      <td>36</td>\n",
              "      <td>89</td>\n",
              "      <td>0</td>\n",
              "      <td>45</td>\n",
              "      <td>0</td>\n",
              "    </tr>\n",
              "    <tr>\n",
              "      <th>404</th>\n",
              "      <td>2020-03-08</td>\n",
              "      <td>New York</td>\n",
              "      <td>36</td>\n",
              "      <td>106</td>\n",
              "      <td>0</td>\n",
              "      <td>17</td>\n",
              "      <td>0</td>\n",
              "    </tr>\n",
              "    <tr>\n",
              "      <th>440</th>\n",
              "      <td>2020-03-09</td>\n",
              "      <td>New York</td>\n",
              "      <td>36</td>\n",
              "      <td>142</td>\n",
              "      <td>0</td>\n",
              "      <td>36</td>\n",
              "      <td>0</td>\n",
              "    </tr>\n",
              "    <tr>\n",
              "      <th>478</th>\n",
              "      <td>2020-03-10</td>\n",
              "      <td>New York</td>\n",
              "      <td>36</td>\n",
              "      <td>173</td>\n",
              "      <td>0</td>\n",
              "      <td>31</td>\n",
              "      <td>0</td>\n",
              "    </tr>\n",
              "  </tbody>\n",
              "</table>\n",
              "</div>"
            ],
            "text/plain": [
              "           date     state  fips  cases  deaths  new_cases  new_deaths\n",
              "246  2020-03-01  New York    36      1       0          1           0\n",
              "261  2020-03-02  New York    36      1       0          0           0\n",
              "276  2020-03-03  New York    36      2       0          1           0\n",
              "293  2020-03-04  New York    36     11       0          9           0\n",
              "313  2020-03-05  New York    36     22       0         11           0\n",
              "338  2020-03-06  New York    36     44       0         22           0\n",
              "369  2020-03-07  New York    36     89       0         45           0\n",
              "404  2020-03-08  New York    36    106       0         17           0\n",
              "440  2020-03-09  New York    36    142       0         36           0\n",
              "478  2020-03-10  New York    36    173       0         31           0"
            ]
          },
          "metadata": {
            "tags": []
          },
          "execution_count": 43
        }
      ]
    },
    {
      "cell_type": "code",
      "metadata": {
        "colab": {
          "base_uri": "https://localhost:8080/",
          "height": 204
        },
        "id": "NBrg_EnRAY8r",
        "outputId": "b9f9fe02-cd32-4b59-834c-c9fc69df2903"
      },
      "source": [
        "ny_df.tail()"
      ],
      "execution_count": 44,
      "outputs": [
        {
          "output_type": "execute_result",
          "data": {
            "text/html": [
              "<div>\n",
              "<style scoped>\n",
              "    .dataframe tbody tr th:only-of-type {\n",
              "        vertical-align: middle;\n",
              "    }\n",
              "\n",
              "    .dataframe tbody tr th {\n",
              "        vertical-align: top;\n",
              "    }\n",
              "\n",
              "    .dataframe thead th {\n",
              "        text-align: right;\n",
              "    }\n",
              "</style>\n",
              "<table border=\"1\" class=\"dataframe\">\n",
              "  <thead>\n",
              "    <tr style=\"text-align: right;\">\n",
              "      <th></th>\n",
              "      <th>date</th>\n",
              "      <th>state</th>\n",
              "      <th>fips</th>\n",
              "      <th>cases</th>\n",
              "      <th>deaths</th>\n",
              "      <th>new_cases</th>\n",
              "      <th>new_deaths</th>\n",
              "    </tr>\n",
              "  </thead>\n",
              "  <tbody>\n",
              "    <tr>\n",
              "      <th>28702</th>\n",
              "      <td>2021-08-06</td>\n",
              "      <td>New York</td>\n",
              "      <td>36</td>\n",
              "      <td>2166341</td>\n",
              "      <td>53318</td>\n",
              "      <td>3760</td>\n",
              "      <td>3</td>\n",
              "    </tr>\n",
              "    <tr>\n",
              "      <th>28757</th>\n",
              "      <td>2021-08-07</td>\n",
              "      <td>New York</td>\n",
              "      <td>36</td>\n",
              "      <td>2170878</td>\n",
              "      <td>53331</td>\n",
              "      <td>4537</td>\n",
              "      <td>13</td>\n",
              "    </tr>\n",
              "    <tr>\n",
              "      <th>28812</th>\n",
              "      <td>2021-08-08</td>\n",
              "      <td>New York</td>\n",
              "      <td>36</td>\n",
              "      <td>2174515</td>\n",
              "      <td>53346</td>\n",
              "      <td>3637</td>\n",
              "      <td>15</td>\n",
              "    </tr>\n",
              "    <tr>\n",
              "      <th>28867</th>\n",
              "      <td>2021-08-09</td>\n",
              "      <td>New York</td>\n",
              "      <td>36</td>\n",
              "      <td>2176196</td>\n",
              "      <td>53352</td>\n",
              "      <td>1681</td>\n",
              "      <td>6</td>\n",
              "    </tr>\n",
              "    <tr>\n",
              "      <th>28922</th>\n",
              "      <td>2021-08-10</td>\n",
              "      <td>New York</td>\n",
              "      <td>36</td>\n",
              "      <td>2177918</td>\n",
              "      <td>53360</td>\n",
              "      <td>1722</td>\n",
              "      <td>8</td>\n",
              "    </tr>\n",
              "  </tbody>\n",
              "</table>\n",
              "</div>"
            ],
            "text/plain": [
              "             date     state  fips    cases  deaths  new_cases  new_deaths\n",
              "28702  2021-08-06  New York    36  2166341   53318       3760           3\n",
              "28757  2021-08-07  New York    36  2170878   53331       4537          13\n",
              "28812  2021-08-08  New York    36  2174515   53346       3637          15\n",
              "28867  2021-08-09  New York    36  2176196   53352       1681           6\n",
              "28922  2021-08-10  New York    36  2177918   53360       1722           8"
            ]
          },
          "metadata": {
            "tags": []
          },
          "execution_count": 44
        }
      ]
    },
    {
      "cell_type": "code",
      "metadata": {
        "id": "PK0Tq2qs-JTJ",
        "colab": {
          "base_uri": "https://localhost:8080/"
        },
        "outputId": "875c62de-6d52-4dfc-c228-fcfcb5c03b1a"
      },
      "source": [
        "ny_df['new_cases'].sum()"
      ],
      "execution_count": 16,
      "outputs": [
        {
          "output_type": "execute_result",
          "data": {
            "text/plain": [
              "2177918"
            ]
          },
          "metadata": {
            "tags": []
          },
          "execution_count": 16
        }
      ]
    },
    {
      "cell_type": "code",
      "metadata": {
        "id": "CvPTpg6T-p15"
      },
      "source": [
        "ny_cases = ny_df['cases']\n",
        "ny_deaths = ny_df['deaths']\n",
        "ny_dates = ny_df['date']\n",
        "ny_new_cases = ny_df['new_cases']\n",
        "ny_new_deaths = ny_df['new_deaths']"
      ],
      "execution_count": 45,
      "outputs": []
    },
    {
      "cell_type": "code",
      "metadata": {
        "id": "g14xWA8g_6nZ",
        "colab": {
          "base_uri": "https://localhost:8080/"
        },
        "outputId": "f7d05989-1105-4858-c398-6552eedc9944"
      },
      "source": [
        "type(ny_new_cases)"
      ],
      "execution_count": 18,
      "outputs": [
        {
          "output_type": "execute_result",
          "data": {
            "text/plain": [
              "pandas.core.series.Series"
            ]
          },
          "metadata": {
            "tags": []
          },
          "execution_count": 18
        }
      ]
    },
    {
      "cell_type": "code",
      "metadata": {
        "id": "QDc2omEP_-qS",
        "colab": {
          "base_uri": "https://localhost:8080/",
          "height": 315
        },
        "outputId": "1736b7e7-6556-4b7f-c05c-a8ca99c66fe4"
      },
      "source": [
        "ny_df.plot(kind='bar', )"
      ],
      "execution_count": 46,
      "outputs": [
        {
          "output_type": "execute_result",
          "data": {
            "text/plain": [
              "<matplotlib.axes._subplots.AxesSubplot at 0x7fb1fa5c1a90>"
            ]
          },
          "metadata": {
            "tags": []
          },
          "execution_count": 46
        },
        {
          "output_type": "display_data",
          "data": {
            "image/png": "[encoded data removed]",
            "text/plain": [
              "<Figure size 432x288 with 1 Axes>"
            ]
          },
          "metadata": {
            "tags": [],
            "needs_background": "light"
          }
        }
      ]
    },
    {
      "cell_type": "code",
      "metadata": {
        "colab": {
          "base_uri": "https://localhost:8080/",
          "height": 304
        },
        "id": "N60gTo93A8gZ",
        "outputId": "00002d3b-1b59-4658-b871-90e0761a3dd4"
      },
      "source": [
        "ny_new_deaths.plot(kind='bar')"
      ],
      "execution_count": 47,
      "outputs": [
        {
          "output_type": "execute_result",
          "data": {
            "text/plain": [
              "<matplotlib.axes._subplots.AxesSubplot at 0x7fb1f9c0dbd0>"
            ]
          },
          "metadata": {
            "tags": []
          },
          "execution_count": 47
        },
        {
          "output_type": "display_data",
          "data": {
            "image/png": "[encoded data removed]",
            "text/plain": [
              "<Figure size 432x288 with 1 Axes>"
            ]
          },
          "metadata": {
            "tags": [],
            "needs_background": "light"
          }
        }
      ]
    },
    {
      "cell_type": "code",
      "metadata": {
        "id": "-PtteplsAWT-",
        "colab": {
          "base_uri": "https://localhost:8080/",
          "height": 476
        },
        "outputId": "95dc675a-abd7-49eb-b49e-ec554a29a7b8"
      },
      "source": [
        "plt.figure(figsize=(15,7))\n",
        "plt.bar(x=ny_dates, height=ny_new_cases, color='red')\n",
        "plt.xticks(rotation=90)\n",
        "plt.show()"
      ],
      "execution_count": 20,
      "outputs": [
        {
          "output_type": "display_data",
          "data": {
            "image/png": "[encoded data removed]",
            "text/plain": [
              "<Figure size 1080x504 with 1 Axes>"
            ]
          },
          "metadata": {
            "tags": [],
            "needs_background": "light"
          }
        }
      ]
    },
    {
      "cell_type": "markdown",
      "metadata": {
        "id": "IKuLfv3SF27O"
      },
      "source": [
        "# Task4: Understand NY covid 19 data in last 30 days"
      ]
    },
    {
      "cell_type": "code",
      "metadata": {
        "id": "280y4sHrAyuk"
      },
      "source": [
        "ny_cases_30 = ny_df['cases'][-31:-1]\n",
        "ny_deaths_30 = ny_df['deaths'] [-31:-1]\n",
        "ny_dates_30 = ny_df['date'][-31:-1]\n",
        "ny_new_cases_30 = ny_df['new_cases'][-31:-1]\n",
        "ny_new_deaths_30 = ny_new_deaths[-31:-1]"
      ],
      "execution_count": 49,
      "outputs": []
    },
    {
      "cell_type": "code",
      "metadata": {
        "colab": {
          "base_uri": "https://localhost:8080/",
          "height": 204
        },
        "id": "wMeZDoW0BniL",
        "outputId": "014d327c-d286-4684-bcfa-52b6f4850002"
      },
      "source": [
        "ny_df.tail()"
      ],
      "execution_count": 30,
      "outputs": [
        {
          "output_type": "execute_result",
          "data": {
            "text/html": [
              "<div>\n",
              "<style scoped>\n",
              "    .dataframe tbody tr th:only-of-type {\n",
              "        vertical-align: middle;\n",
              "    }\n",
              "\n",
              "    .dataframe tbody tr th {\n",
              "        vertical-align: top;\n",
              "    }\n",
              "\n",
              "    .dataframe thead th {\n",
              "        text-align: right;\n",
              "    }\n",
              "</style>\n",
              "<table border=\"1\" class=\"dataframe\">\n",
              "  <thead>\n",
              "    <tr style=\"text-align: right;\">\n",
              "      <th></th>\n",
              "      <th>date</th>\n",
              "      <th>state</th>\n",
              "      <th>fips</th>\n",
              "      <th>cases</th>\n",
              "      <th>deaths</th>\n",
              "      <th>new_cases</th>\n",
              "    </tr>\n",
              "  </thead>\n",
              "  <tbody>\n",
              "    <tr>\n",
              "      <th>28702</th>\n",
              "      <td>2021-08-06</td>\n",
              "      <td>New York</td>\n",
              "      <td>36</td>\n",
              "      <td>2166341</td>\n",
              "      <td>53318</td>\n",
              "      <td>3760</td>\n",
              "    </tr>\n",
              "    <tr>\n",
              "      <th>28757</th>\n",
              "      <td>2021-08-07</td>\n",
              "      <td>New York</td>\n",
              "      <td>36</td>\n",
              "      <td>2170878</td>\n",
              "      <td>53331</td>\n",
              "      <td>4537</td>\n",
              "    </tr>\n",
              "    <tr>\n",
              "      <th>28812</th>\n",
              "      <td>2021-08-08</td>\n",
              "      <td>New York</td>\n",
              "      <td>36</td>\n",
              "      <td>2174515</td>\n",
              "      <td>53346</td>\n",
              "      <td>3637</td>\n",
              "    </tr>\n",
              "    <tr>\n",
              "      <th>28867</th>\n",
              "      <td>2021-08-09</td>\n",
              "      <td>New York</td>\n",
              "      <td>36</td>\n",
              "      <td>2176196</td>\n",
              "      <td>53352</td>\n",
              "      <td>1681</td>\n",
              "    </tr>\n",
              "    <tr>\n",
              "      <th>28922</th>\n",
              "      <td>2021-08-10</td>\n",
              "      <td>New York</td>\n",
              "      <td>36</td>\n",
              "      <td>2177918</td>\n",
              "      <td>53360</td>\n",
              "      <td>1722</td>\n",
              "    </tr>\n",
              "  </tbody>\n",
              "</table>\n",
              "</div>"
            ],
            "text/plain": [
              "             date     state  fips    cases  deaths  new_cases\n",
              "28702  2021-08-06  New York    36  2166341   53318       3760\n",
              "28757  2021-08-07  New York    36  2170878   53331       4537\n",
              "28812  2021-08-08  New York    36  2174515   53346       3637\n",
              "28867  2021-08-09  New York    36  2176196   53352       1681\n",
              "28922  2021-08-10  New York    36  2177918   53360       1722"
            ]
          },
          "metadata": {
            "tags": []
          },
          "execution_count": 30
        }
      ]
    },
    {
      "cell_type": "code",
      "metadata": {
        "id": "BUDcyVRwHY6F"
      },
      "source": [
        "# ny_dates_30"
      ],
      "execution_count": 22,
      "outputs": []
    },
    {
      "cell_type": "code",
      "metadata": {
        "id": "MrRo6IcSHa6F",
        "colab": {
          "base_uri": "https://localhost:8080/",
          "height": 476
        },
        "outputId": "b0888ebc-21d4-4677-ed8b-276d010dbcd8"
      },
      "source": [
        "plt.figure(figsize=(15,7))\n",
        "plt.bar(x=ny_dates_30, height=ny_new_cases_30, color='red')\n",
        "plt.xticks(rotation=90)\n",
        "plt.show()"
      ],
      "execution_count": 23,
      "outputs": [
        {
          "output_type": "display_data",
          "data": {
            "image/png": "[encoded data removed]",
            "text/plain": [
              "<Figure size 1080x504 with 1 Axes>"
            ]
          },
          "metadata": {
            "tags": [],
            "needs_background": "light"
          }
        }
      ]
    },
    {
      "cell_type": "code",
      "metadata": {
        "colab": {
          "base_uri": "https://localhost:8080/",
          "height": 476
        },
        "id": "TG0hPnVKm0E0",
        "outputId": "3af5c198-b63c-43ff-830c-a090380e62cb"
      },
      "source": [
        "plt.figure(figsize=(15,7))\n",
        "plt.bar(x=ny_dates_30, height=ny_new_deaths_30, color='blue')\n",
        "plt.xticks(rotation=90)\n",
        "plt.show()"
      ],
      "execution_count": 51,
      "outputs": [
        {
          "output_type": "display_data",
          "data": {
            "image/png": "[encoded data removed]",
            "text/plain": [
              "<Figure size 1080x504 with 1 Axes>"
            ]
          },
          "metadata": {
            "tags": [],
            "needs_background": "light"
          }
        }
      ]
    },
    {
      "cell_type": "markdown",
      "metadata": {
        "id": "PtjNZZmOdAhy"
      },
      "source": [
        "# Comparing Covid 19 data with different states"
      ]
    },
    {
      "cell_type": "markdown",
      "metadata": {
        "id": "HInHQMh0dHvu"
      },
      "source": [
        "Let's compare the Covid 19 cases after July for states: New York, California, Florida, Texas, Arizona"
      ]
    },
    {
      "cell_type": "code",
      "metadata": {
        "id": "vu_eV2RmHvyO"
      },
      "source": [
        "states = ['New York', 'California','Florida', 'Texas','Arizona']"
      ],
      "execution_count": 52,
      "outputs": []
    },
    {
      "cell_type": "code",
      "metadata": {
        "id": "2xVCN1IBInu0",
        "colab": {
          "base_uri": "https://localhost:8080/",
          "height": 487
        },
        "outputId": "4af185fb-c7df-4442-f89a-77b9159620f3"
      },
      "source": [
        "plt.figure(figsize=(15,7))\n",
        "for state in states:\n",
        "  df_st = df[(df['state']==state) & (df['date']>='2021-07-04')]\n",
        "  plt.plot(df_st['date'],\n",
        "           df_st['cases'],\n",
        "           linewidth=2\n",
        "           )\n",
        "  plt.xticks(rotation=90)\n",
        "plt.legend(states)\n",
        "plt.show()\n"
      ],
      "execution_count": 53,
      "outputs": [
        {
          "output_type": "display_data",
          "data": {
            "image/png": "[encoded data removed]",
            "text/plain": [
              "<Figure size 1080x504 with 1 Axes>"
            ]
          },
          "metadata": {
            "tags": [],
            "needs_background": "light"
          }
        }
      ]
    },
    {
      "cell_type": "markdown",
      "metadata": {
        "id": "Hwch-J5PIHA1"
      },
      "source": [
        "# Conclusion"
      ]
    },
    {
      "cell_type": "markdown",
      "metadata": {
        "id": "q5G5KP6CINBS"
      },
      "source": [
        "Below are the conclusions:\n",
        "\n",
        "\n",
        "\n",
        "1.   **Conclusion 1**\n",
        "\n",
        "    Based off the final graph comparing the rates of different states in the past 30 days, we can conclude that the cases in California, Texas, and Florida have had a recent uptick in cases, which is probably a result of the new variant rampaging their cities. \n",
        "2.   **Conclusion 2**\n",
        "\n",
        "    Based off the red bar graph illustrating the new cases NY has had in the past 30 days, we can conclude that although the rates haven't been increasing in the same dramatic rate as other states, the rates of COVID cases have been steadily increasing in New York the past 30 days. Despite this slight uptick in cases the amount of deaths seem to remain the same, indicating the value of the vaccine in helping fight this virus. \n",
        "\n",
        "3. **Conclusion 3**\n",
        "\n",
        "    Based from the blue and red bar plots displaying COVID data for New York since its first cases, one can see that high amounts of cases and deaths are clustered together. One can also clearly see the correlation between the cases and deaths, being that during times of high cases, high deaths also followed. \n"
      ]
    }
  ]
}